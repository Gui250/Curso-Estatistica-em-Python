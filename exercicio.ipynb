{
 "cells": [
  {
   "cell_type": "markdown",
   "id": "01ca66b5",
   "metadata": {},
   "source": [
    "# Lista de Exercícios"
   ]
  },
  {
   "cell_type": "code",
   "execution_count": 13,
   "id": "15a49cdc",
   "metadata": {},
   "outputs": [],
   "source": [
    "import numpy as np\n",
    "import pandas as pd"
   ]
  },
  {
   "cell_type": "code",
   "execution_count": 1,
   "id": "3be7ba10",
   "metadata": {},
   "outputs": [],
   "source": [
    "dados = [12, 15, 14, 10, 18, 30, 50]"
   ]
  },
  {
   "cell_type": "code",
   "execution_count": 11,
   "id": "f8bbb993",
   "metadata": {},
   "outputs": [
    {
     "data": {
      "text/plain": [
       "21.285714285714285"
      ]
     },
     "execution_count": 11,
     "metadata": {},
     "output_type": "execute_result"
    }
   ],
   "source": [
    "np.mean(dados)"
   ]
  },
  {
   "cell_type": "code",
   "execution_count": 12,
   "id": "334075fc",
   "metadata": {},
   "outputs": [
    {
     "data": {
      "text/plain": [
       "15.0"
      ]
     },
     "execution_count": 12,
     "metadata": {},
     "output_type": "execute_result"
    }
   ],
   "source": [
    "np.median(dados)"
   ]
  },
  {
   "cell_type": "markdown",
   "id": "d1faa3bd",
   "metadata": {},
   "source": [
    "# Exercicio 02"
   ]
  },
  {
   "cell_type": "code",
   "execution_count": 18,
   "id": "0bdeecc4",
   "metadata": {},
   "outputs": [
    {
     "data": {
      "text/plain": [
       "7.9"
      ]
     },
     "execution_count": 18,
     "metadata": {},
     "output_type": "execute_result"
    }
   ],
   "source": [
    "nota = [8.5, 7.0]\n",
    "peso = [0.6, 0.4]\n",
    "\n",
    "dataframe = pd.DataFrame({'nota': nota, 'peso': peso})\n",
    "\n",
    "produtos = dataframe['nota'] * dataframe['peso']\n",
    "\n",
    "soma_produtos = produtos.sum()\n",
    "\n",
    "soma_pesos = dataframe['peso'].sum()\n",
    "\n",
    "media_ponderada = soma_produtos / soma_pesos\n",
    "\n",
    "media_ponderada\n",
    "\n"
   ]
  },
  {
   "cell_type": "code",
   "execution_count": 19,
   "id": "9944acec",
   "metadata": {},
   "outputs": [
    {
     "data": {
      "text/plain": [
       "7.8181818181818175"
      ]
     },
     "execution_count": 19,
     "metadata": {},
     "output_type": "execute_result"
    }
   ],
   "source": [
    "nota = [8.5, 7.0]\n",
    "peso = [0.6, 0.5]\n",
    "\n",
    "dataframe = pd.DataFrame({'nota': nota, 'peso': peso})\n",
    "\n",
    "produtos = dataframe['nota'] * dataframe['peso']\n",
    "\n",
    "soma_produtos = produtos.sum()\n",
    "\n",
    "soma_pesos = dataframe['peso'].sum()\n",
    "\n",
    "media_ponderada = soma_produtos / soma_pesos\n",
    "\n",
    "media_ponderada"
   ]
  },
  {
   "cell_type": "code",
   "execution_count": 20,
   "id": "9f383a6a",
   "metadata": {},
   "outputs": [],
   "source": [
    "notas = [55, 60, 70, 75, 80, 85, 90, 95, 100, 200]"
   ]
  },
  {
   "cell_type": "code",
   "execution_count": 21,
   "id": "d1b3e9fc",
   "metadata": {},
   "outputs": [],
   "source": [
    "dataframe_notas = pd.DataFrame(dados)"
   ]
  },
  {
   "cell_type": "code",
   "execution_count": 23,
   "id": "22530c95",
   "metadata": {},
   "outputs": [
    {
     "data": {
      "text/plain": [
       "0    21.285714\n",
       "dtype: float64"
      ]
     },
     "execution_count": 23,
     "metadata": {},
     "output_type": "execute_result"
    }
   ],
   "source": [
    "dataframe_notas\n",
    "dataframe_notas.mean()"
   ]
  },
  {
   "cell_type": "code",
   "execution_count": 24,
   "id": "c6346357",
   "metadata": {},
   "outputs": [
    {
     "name": "stdout",
     "output_type": "stream",
     "text": [
      "Média recortada (removendo 10% dos extremos): 21.285714285714285\n",
      "Dados ordenados: [10, 12, 14, 15, 18, 30, 50]\n",
      "Valores a remover de cada lado: 0\n",
      "Dados após remoção dos extremos: [10, 12, 14, 15, 18, 30, 50]\n",
      "Média recortada (cálculo manual): 21.285714285714285\n",
      "Média original: 21.285714285714285\n",
      "Diferença: 0.0\n"
     ]
    }
   ],
   "source": [
    "# Remova 10% dos valores mais extremos e calcule a média recortada\n",
    "\n",
    "# Usando scipy.stats.trim_mean para calcular média recortada\n",
    "from scipy import stats\n",
    "\n",
    "# Remove 10% dos valores mais extremos (5% de cada lado)\n",
    "media_recortada = stats.trim_mean(dados, 0.1)\n",
    "print(f\"Média recortada (removendo 10% dos extremos): {media_recortada}\")\n",
    "\n",
    "# Alternativa manual: ordenar os dados e remover os extremos\n",
    "dados_ordenados = sorted(dados)\n",
    "print(f\"Dados ordenados: {dados_ordenados}\")\n",
    "\n",
    "# Calcular quantos valores remover (10% total = 5% de cada lado)\n",
    "n = len(dados)\n",
    "valores_a_remover = int(n * 0.05)  # 5% de cada lado\n",
    "print(f\"Valores a remover de cada lado: {valores_a_remover}\")\n",
    "\n",
    "# Remover os valores extremos\n",
    "if valores_a_remover > 0:\n",
    "    dados_recortados = dados_ordenados[valores_a_remover:-valores_a_remover]\n",
    "else:\n",
    "    dados_recortados = dados_ordenados\n",
    "\n",
    "print(f\"Dados após remoção dos extremos: {dados_recortados}\")\n",
    "\n",
    "# Calcular a média dos dados recortados\n",
    "media_recortada_manual = np.mean(dados_recortados)\n",
    "print(f\"Média recortada (cálculo manual): {media_recortada_manual}\")\n",
    "\n",
    "# Comparar com a média original\n",
    "media_original = np.mean(dados)\n",
    "print(f\"Média original: {media_original}\")\n",
    "print(f\"Diferença: {media_original - media_recortada_manual}\")\n"
   ]
  },
  {
   "cell_type": "code",
   "execution_count": 25,
   "id": "fad208f7",
   "metadata": {},
   "outputs": [],
   "source": [
    "precos = [105, 107, 110, 115, 120, 200, 130, 128, 126, 125]"
   ]
  },
  {
   "cell_type": "code",
   "execution_count": 28,
   "id": "dc4ce897",
   "metadata": {},
   "outputs": [
    {
     "data": {
      "text/plain": [
       "0    122.5\n",
       "dtype: float64"
      ]
     },
     "execution_count": 28,
     "metadata": {},
     "output_type": "execute_result"
    }
   ],
   "source": [
    "dataframe_precos = pd.DataFrame(precos)\n",
    "\n",
    "dataframe_precos.median()\n"
   ]
  },
  {
   "cell_type": "code",
   "execution_count": 29,
   "id": "914bfc37",
   "metadata": {},
   "outputs": [
    {
     "data": {
      "text/html": [
       "<div>\n",
       "<style scoped>\n",
       "    .dataframe tbody tr th:only-of-type {\n",
       "        vertical-align: middle;\n",
       "    }\n",
       "\n",
       "    .dataframe tbody tr th {\n",
       "        vertical-align: top;\n",
       "    }\n",
       "\n",
       "    .dataframe thead th {\n",
       "        text-align: right;\n",
       "    }\n",
       "</style>\n",
       "<table border=\"1\" class=\"dataframe\">\n",
       "  <thead>\n",
       "    <tr style=\"text-align: right;\">\n",
       "      <th></th>\n",
       "      <th>0</th>\n",
       "    </tr>\n",
       "  </thead>\n",
       "  <tbody>\n",
       "    <tr>\n",
       "      <th>0</th>\n",
       "      <td>NaN</td>\n",
       "    </tr>\n",
       "    <tr>\n",
       "      <th>1</th>\n",
       "      <td>NaN</td>\n",
       "    </tr>\n",
       "    <tr>\n",
       "      <th>2</th>\n",
       "      <td>107.0</td>\n",
       "    </tr>\n",
       "    <tr>\n",
       "      <th>3</th>\n",
       "      <td>110.0</td>\n",
       "    </tr>\n",
       "    <tr>\n",
       "      <th>4</th>\n",
       "      <td>115.0</td>\n",
       "    </tr>\n",
       "    <tr>\n",
       "      <th>5</th>\n",
       "      <td>120.0</td>\n",
       "    </tr>\n",
       "    <tr>\n",
       "      <th>6</th>\n",
       "      <td>130.0</td>\n",
       "    </tr>\n",
       "    <tr>\n",
       "      <th>7</th>\n",
       "      <td>130.0</td>\n",
       "    </tr>\n",
       "    <tr>\n",
       "      <th>8</th>\n",
       "      <td>128.0</td>\n",
       "    </tr>\n",
       "    <tr>\n",
       "      <th>9</th>\n",
       "      <td>126.0</td>\n",
       "    </tr>\n",
       "  </tbody>\n",
       "</table>\n",
       "</div>"
      ],
      "text/plain": [
       "       0\n",
       "0    NaN\n",
       "1    NaN\n",
       "2  107.0\n",
       "3  110.0\n",
       "4  115.0\n",
       "5  120.0\n",
       "6  130.0\n",
       "7  130.0\n",
       "8  128.0\n",
       "9  126.0"
      ]
     },
     "execution_count": 29,
     "metadata": {},
     "output_type": "execute_result"
    }
   ],
   "source": [
    "dias = 3 \n",
    "dataframe_precos.rolling(window=dias).median()"
   ]
  }
 ],
 "metadata": {
  "kernelspec": {
   "display_name": "base",
   "language": "python",
   "name": "python3"
  },
  "language_info": {
   "codemirror_mode": {
    "name": "ipython",
    "version": 3
   },
   "file_extension": ".py",
   "mimetype": "text/x-python",
   "name": "python",
   "nbconvert_exporter": "python",
   "pygments_lexer": "ipython3",
   "version": "3.12.4"
  }
 },
 "nbformat": 4,
 "nbformat_minor": 5
}
