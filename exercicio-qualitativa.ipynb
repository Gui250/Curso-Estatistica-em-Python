{
 "cells": [
  {
   "cell_type": "code",
   "execution_count": 4,
   "id": "d7486480",
   "metadata": {},
   "outputs": [],
   "source": [
    "import numpy as np\n",
    "import pandas as pd\n",
    "import matplotlib.pyplot as plt"
   ]
  },
  {
   "cell_type": "markdown",
   "id": "12435e9c",
   "metadata": {},
   "source": [
    "## Exercicio 01"
   ]
  },
  {
   "cell_type": "code",
   "execution_count": 5,
   "id": "fbf5404c",
   "metadata": {},
   "outputs": [
    {
     "name": "stdout",
     "output_type": "stream",
     "text": [
      "A média das alturas é: 170.9\n",
      "O desvio padrão das alturas é: 5.503635162326805\n",
      "A distribuição é assimétrica: True\n"
     ]
    }
   ],
   "source": [
    "# Exercicio 1\n",
    "alturas = [160, 170, 165, 180, 175, 172, 168, 169, 174, 176]\n",
    "media_altura = np.mean(alturas)\n",
    "desvio_padrao = np.std(alturas)\n",
    "eh_assimetrica = np.mean(alturas) != np.median(alturas)\n",
    "print(f'A média das alturas é: {media_altura}')\n",
    "print(f'O desvio padrão das alturas é: {desvio_padrao}')\n",
    "print(f'A distribuição é assimétrica: {eh_assimetrica}')"
   ]
  },
  {
   "cell_type": "markdown",
   "id": "8fd4891c",
   "metadata": {},
   "source": [
    "## Exercicio 02"
   ]
  },
  {
   "cell_type": "code",
   "execution_count": 6,
   "id": "54072930",
   "metadata": {},
   "outputs": [],
   "source": [
    "# Exercicio 2\n",
    "feedbacks = [\"Bom\", \"Ruim\", \"Excelente\", \"Bom\", \"Regular\", \"Bom\", \"Excelente\", \"Ruim\", \"Bom\", \"Regular\"]"
   ]
  },
  {
   "cell_type": "code",
   "execution_count": 7,
   "id": "bdc0680e",
   "metadata": {},
   "outputs": [
    {
     "data": {
      "text/html": [
       "<div>\n",
       "<style scoped>\n",
       "    .dataframe tbody tr th:only-of-type {\n",
       "        vertical-align: middle;\n",
       "    }\n",
       "\n",
       "    .dataframe tbody tr th {\n",
       "        vertical-align: top;\n",
       "    }\n",
       "\n",
       "    .dataframe thead th {\n",
       "        text-align: right;\n",
       "    }\n",
       "</style>\n",
       "<table border=\"1\" class=\"dataframe\">\n",
       "  <thead>\n",
       "    <tr style=\"text-align: right;\">\n",
       "      <th></th>\n",
       "      <th>feedback</th>\n",
       "    </tr>\n",
       "  </thead>\n",
       "  <tbody>\n",
       "    <tr>\n",
       "      <th>0</th>\n",
       "      <td>Bom</td>\n",
       "    </tr>\n",
       "    <tr>\n",
       "      <th>1</th>\n",
       "      <td>Ruim</td>\n",
       "    </tr>\n",
       "    <tr>\n",
       "      <th>2</th>\n",
       "      <td>Excelente</td>\n",
       "    </tr>\n",
       "    <tr>\n",
       "      <th>3</th>\n",
       "      <td>Bom</td>\n",
       "    </tr>\n",
       "    <tr>\n",
       "      <th>4</th>\n",
       "      <td>Regular</td>\n",
       "    </tr>\n",
       "    <tr>\n",
       "      <th>5</th>\n",
       "      <td>Bom</td>\n",
       "    </tr>\n",
       "    <tr>\n",
       "      <th>6</th>\n",
       "      <td>Excelente</td>\n",
       "    </tr>\n",
       "    <tr>\n",
       "      <th>7</th>\n",
       "      <td>Ruim</td>\n",
       "    </tr>\n",
       "    <tr>\n",
       "      <th>8</th>\n",
       "      <td>Bom</td>\n",
       "    </tr>\n",
       "    <tr>\n",
       "      <th>9</th>\n",
       "      <td>Regular</td>\n",
       "    </tr>\n",
       "  </tbody>\n",
       "</table>\n",
       "</div>"
      ],
      "text/plain": [
       "    feedback\n",
       "0        Bom\n",
       "1       Ruim\n",
       "2  Excelente\n",
       "3        Bom\n",
       "4    Regular\n",
       "5        Bom\n",
       "6  Excelente\n",
       "7       Ruim\n",
       "8        Bom\n",
       "9    Regular"
      ]
     },
     "execution_count": 7,
     "metadata": {},
     "output_type": "execute_result"
    }
   ],
   "source": [
    "dataframe = pd.DataFrame({'feedback': feedbacks})\n",
    "dataframe"
   ]
  },
  {
   "cell_type": "code",
   "execution_count": 8,
   "id": "935d6631",
   "metadata": {},
   "outputs": [
    {
     "name": "stdout",
     "output_type": "stream",
     "text": [
      "A categoria mais frequente é: Bom\n"
     ]
    }
   ],
   "source": [
    "categoria_mais_frequente = dataframe['feedback'].mode()[0]\n",
    "print(f'A categoria mais frequente é: {categoria_mais_frequente}')"
   ]
  },
  {
   "cell_type": "code",
   "execution_count": 9,
   "id": "28124dcf",
   "metadata": {},
   "outputs": [
    {
     "data": {
      "image/png": "[encoded data removed]",
      "text/plain": [
       "<Figure size 1000x600 with 1 Axes>"
      ]
     },
     "metadata": {},
     "output_type": "display_data"
    }
   ],
   "source": [
    "plt.figure(figsize=(10, 6))\n",
    "plt.bar(dataframe['feedback'].value_counts().index, dataframe['feedback'].value_counts().values)\n",
    "plt.xlabel('Feedback')\n",
    "plt.ylabel('Frequência')\n",
    "plt.title('Frequência de Feedback')\n",
    "plt.show()\n"
   ]
  },
  {
   "cell_type": "markdown",
   "id": "f0570018",
   "metadata": {},
   "source": [
    "## Exercicio 03"
   ]
  },
  {
   "cell_type": "code",
   "execution_count": 10,
   "id": "f69fb4b9",
   "metadata": {},
   "outputs": [],
   "source": [
    "horas_estudo = [2, 4, 6, 8, 10, 12, 14]\n",
    "notas = [50, 55, 65, 70, 80, 85, 90]"
   ]
  },
  {
   "cell_type": "code",
   "execution_count": 11,
   "id": "b307b87f",
   "metadata": {},
   "outputs": [
    {
     "name": "stdout",
     "output_type": "stream",
     "text": [
      "A média das notas é: 70.71428571428571\n",
      "A média das horas de estudo é: 8.0\n"
     ]
    }
   ],
   "source": [
    "media_notas = np.mean(notas)\n",
    "media_horas = np.mean(horas_estudo)\n",
    "print(f'A média das notas é: {media_notas}')\n",
    "print(f'A média das horas de estudo é: {media_horas}')"
   ]
  }
 ],
 "metadata": {
  "kernelspec": {
   "display_name": "base",
   "language": "python",
   "name": "python3"
  },
  "language_info": {
   "codemirror_mode": {
    "name": "ipython",
    "version": 3
   },
   "file_extension": ".py",
   "mimetype": "text/x-python",
   "name": "python",
   "nbconvert_exporter": "python",
   "pygments_lexer": "ipython3",
   "version": "3.13.5"
  }
 },
 "nbformat": 4,
 "nbformat_minor": 5
}
