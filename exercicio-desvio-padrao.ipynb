{
 "cells": [
  {
   "cell_type": "code",
   "execution_count": 1,
   "id": "e4302114",
   "metadata": {},
   "outputs": [
    {
     "name": "stdout",
     "output_type": "stream",
     "text": [
      "1.5811388300841898\n",
      "2.588435821108957\n"
     ]
    }
   ],
   "source": [
    "grupoA = [4, 7, 6, 8, 5]\n",
    "grupoB = [3, 9, 7, 8, 4]\n",
    "\n",
    "# Calculando a media\n",
    "media_grupoA = sum(grupoA) / len(grupoA)\n",
    "media_grupoB = sum(grupoB) / len(grupoB)\n",
    "\n",
    "# Calculando a variância\n",
    "variancia_grupoA = sum((x - media_grupoA) ** 2 for x in grupoA) / (len(grupoA) - 1)\n",
    "variancia_grupoB = sum((x - media_grupoB) ** 2 for x in grupoB) / (len(grupoB) - 1)\n",
    "\n",
    "# Calculando o desvio padrão\n",
    "desvio_padrao_grupoA = variancia_grupoA ** 0.5\n",
    "desvio_padrao_grupoB = variancia_grupoB ** 0.5\n",
    "\n",
    "print(desvio_padrao_grupoA)\n",
    "print(desvio_padrao_grupoB)"
   ]
  }
 ],
 "metadata": {
  "kernelspec": {
   "display_name": "base",
   "language": "python",
   "name": "python3"
  },
  "language_info": {
   "codemirror_mode": {
    "name": "ipython",
    "version": 3
   },
   "file_extension": ".py",
   "mimetype": "text/x-python",
   "name": "python",
   "nbconvert_exporter": "python",
   "pygments_lexer": "ipython3",
   "version": "3.12.7"
  }
 },
 "nbformat": 4,
 "nbformat_minor": 5
}
