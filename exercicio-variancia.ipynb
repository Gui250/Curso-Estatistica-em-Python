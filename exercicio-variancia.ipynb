{
 "cells": [
  {
   "cell_type": "markdown",
   "id": "8c8469c9",
   "metadata": {},
   "source": [
    "# Exercicio 01"
   ]
  },
  {
   "cell_type": "code",
   "execution_count": 6,
   "id": "a431f1a6",
   "metadata": {},
   "outputs": [
    {
     "name": "stdout",
     "output_type": "stream",
     "text": [
      "3.7\n"
     ]
    }
   ],
   "source": [
    "idades = [22, 25, 23, 20, 24]\n",
    "soma = 0 \n",
    "# calculando a media \n",
    "for idade in idades: \n",
    "    soma += idade \n",
    "media = soma / len(idades)\n",
    "\n",
    "distancia1 = (22 - media) ** 2\n",
    "distancia2 = (25 - media) ** 2\n",
    "distancia3 = (23 - media) ** 2\n",
    "distancia4 = (20 - media) ** 2\n",
    "distancia5 = (24 - media) ** 2\n",
    "\n",
    "soma_quadrados = distancia1 + distancia2 + distancia3 + distancia4 + distancia5\n",
    "variancia = soma_quadrados / (len(idades) - 1)\n",
    "\n",
    "print(variancia)\n",
    "\n"
   ]
  }
 ],
 "metadata": {
  "kernelspec": {
   "display_name": "base",
   "language": "python",
   "name": "python3"
  },
  "language_info": {
   "codemirror_mode": {
    "name": "ipython",
    "version": 3
   },
   "file_extension": ".py",
   "mimetype": "text/x-python",
   "name": "python",
   "nbconvert_exporter": "python",
   "pygments_lexer": "ipython3",
   "version": "3.12.7"
  }
 },
 "nbformat": 4,
 "nbformat_minor": 5
}
