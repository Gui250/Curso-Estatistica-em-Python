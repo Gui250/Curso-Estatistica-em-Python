{
 "cells": [
  {
   "cell_type": "markdown",
   "id": "9acf96d7",
   "metadata": {},
   "source": [
    "## Imports"
   ]
  },
  {
   "cell_type": "code",
   "execution_count": 2,
   "id": "135d3098",
   "metadata": {},
   "outputs": [],
   "source": [
    "import pandas as pd \n",
    "import numpy as np"
   ]
  },
  {
   "cell_type": "markdown",
   "id": "fd1564bc",
   "metadata": {},
   "source": [
    "## Lendo os Dados"
   ]
  },
  {
   "cell_type": "code",
   "execution_count": 3,
   "id": "7eaeaa88",
   "metadata": {},
   "outputs": [],
   "source": [
    "df = pd.read_csv('Datasets/ifood-restaurants-november-2020.csv')"
   ]
  },
  {
   "cell_type": "code",
   "execution_count": 4,
   "id": "87d2c011",
   "metadata": {},
   "outputs": [
    {
     "data": {
      "text/html": [
       "<div>\n",
       "<style scoped>\n",
       "    .dataframe tbody tr th:only-of-type {\n",
       "        vertical-align: middle;\n",
       "    }\n",
       "\n",
       "    .dataframe tbody tr th {\n",
       "        vertical-align: top;\n",
       "    }\n",
       "\n",
       "    .dataframe thead th {\n",
       "        text-align: right;\n",
       "    }\n",
       "</style>\n",
       "<table border=\"1\" class=\"dataframe\">\n",
       "  <thead>\n",
       "    <tr style=\"text-align: right;\">\n",
       "      <th></th>\n",
       "      <th>avatar</th>\n",
       "      <th>category</th>\n",
       "      <th>delivery_fee</th>\n",
       "      <th>delivery_time</th>\n",
       "      <th>distance</th>\n",
       "      <th>name</th>\n",
       "      <th>price_range</th>\n",
       "      <th>rating</th>\n",
       "      <th>url</th>\n",
       "      <th>lat</th>\n",
       "      <th>long</th>\n",
       "    </tr>\n",
       "  </thead>\n",
       "  <tbody>\n",
       "    <tr>\n",
       "      <th>0</th>\n",
       "      <td>https://static-images.ifood.com.br/image/uploa...</td>\n",
       "      <td>Lanches</td>\n",
       "      <td>9.00</td>\n",
       "      <td>80</td>\n",
       "      <td>6.20</td>\n",
       "      <td>El'moedor</td>\n",
       "      <td>CHEAP</td>\n",
       "      <td>4.30303</td>\n",
       "      <td>https://www.ifood.com.br/delivery/vitoria-de-s...</td>\n",
       "      <td>-8.11298</td>\n",
       "      <td>-35.215</td>\n",
       "    </tr>\n",
       "    <tr>\n",
       "      <th>1</th>\n",
       "      <td>https://static-images.ifood.com.br/image/uploa...</td>\n",
       "      <td>Doces &amp; Bolos</td>\n",
       "      <td>6.00</td>\n",
       "      <td>35</td>\n",
       "      <td>3.03</td>\n",
       "      <td>Delicia de Brigadeiro</td>\n",
       "      <td>CHEAPEST</td>\n",
       "      <td>0.00000</td>\n",
       "      <td>https://www.ifood.com.br/delivery/moreno-pe/de...</td>\n",
       "      <td>-8.11298</td>\n",
       "      <td>-35.115</td>\n",
       "    </tr>\n",
       "    <tr>\n",
       "      <th>2</th>\n",
       "      <td>https://static-images.ifood.com.br/image/uploa...</td>\n",
       "      <td>Brasileira</td>\n",
       "      <td>4.00</td>\n",
       "      <td>40</td>\n",
       "      <td>1.51</td>\n",
       "      <td>Pizzaria Rappi10 - Moreno</td>\n",
       "      <td>CHEAPEST</td>\n",
       "      <td>0.00000</td>\n",
       "      <td>https://www.ifood.com.br/delivery/moreno-pe/pi...</td>\n",
       "      <td>-8.11298</td>\n",
       "      <td>-35.115</td>\n",
       "    </tr>\n",
       "    <tr>\n",
       "      <th>3</th>\n",
       "      <td>https://static-images.ifood.com.br/image/uploa...</td>\n",
       "      <td>Lanches</td>\n",
       "      <td>0.00</td>\n",
       "      <td>50</td>\n",
       "      <td>0.79</td>\n",
       "      <td>Tapioca Arretada</td>\n",
       "      <td>CHEAPEST</td>\n",
       "      <td>5.00000</td>\n",
       "      <td>https://www.ifood.com.br/delivery/jaboatao-dos...</td>\n",
       "      <td>-8.11298</td>\n",
       "      <td>-35.015</td>\n",
       "    </tr>\n",
       "    <tr>\n",
       "      <th>4</th>\n",
       "      <td>https://static-images.ifood.com.br/image/uploa...</td>\n",
       "      <td>Salgados</td>\n",
       "      <td>12.99</td>\n",
       "      <td>36</td>\n",
       "      <td>5.12</td>\n",
       "      <td>Minuto Kit Festa ( Salgados e Doces )</td>\n",
       "      <td>CHEAPEST</td>\n",
       "      <td>5.00000</td>\n",
       "      <td>https://www.ifood.com.br/delivery/jaboatao-dos...</td>\n",
       "      <td>-8.11298</td>\n",
       "      <td>-35.015</td>\n",
       "    </tr>\n",
       "  </tbody>\n",
       "</table>\n",
       "</div>"
      ],
      "text/plain": [
       "                                              avatar       category  \\\n",
       "0  https://static-images.ifood.com.br/image/uploa...        Lanches   \n",
       "1  https://static-images.ifood.com.br/image/uploa...  Doces & Bolos   \n",
       "2  https://static-images.ifood.com.br/image/uploa...     Brasileira   \n",
       "3  https://static-images.ifood.com.br/image/uploa...        Lanches   \n",
       "4  https://static-images.ifood.com.br/image/uploa...       Salgados   \n",
       "\n",
       "   delivery_fee  delivery_time  distance  \\\n",
       "0          9.00             80      6.20   \n",
       "1          6.00             35      3.03   \n",
       "2          4.00             40      1.51   \n",
       "3          0.00             50      0.79   \n",
       "4         12.99             36      5.12   \n",
       "\n",
       "                                    name price_range   rating  \\\n",
       "0                              El'moedor       CHEAP  4.30303   \n",
       "1                  Delicia de Brigadeiro    CHEAPEST  0.00000   \n",
       "2              Pizzaria Rappi10 - Moreno    CHEAPEST  0.00000   \n",
       "3                       Tapioca Arretada    CHEAPEST  5.00000   \n",
       "4  Minuto Kit Festa ( Salgados e Doces )    CHEAPEST  5.00000   \n",
       "\n",
       "                                                 url      lat    long  \n",
       "0  https://www.ifood.com.br/delivery/vitoria-de-s... -8.11298 -35.215  \n",
       "1  https://www.ifood.com.br/delivery/moreno-pe/de... -8.11298 -35.115  \n",
       "2  https://www.ifood.com.br/delivery/moreno-pe/pi... -8.11298 -35.115  \n",
       "3  https://www.ifood.com.br/delivery/jaboatao-dos... -8.11298 -35.015  \n",
       "4  https://www.ifood.com.br/delivery/jaboatao-dos... -8.11298 -35.015  "
      ]
     },
     "execution_count": 4,
     "metadata": {},
     "output_type": "execute_result"
    }
   ],
   "source": [
    "df.head(5)"
   ]
  },
  {
   "cell_type": "markdown",
   "id": "b3775206",
   "metadata": {},
   "source": [
    "## Selecionando Variaveis Covenientes"
   ]
  },
  {
   "cell_type": "code",
   "execution_count": 5,
   "id": "e113ec09",
   "metadata": {},
   "outputs": [],
   "source": [
    "df_sel = df[['category', 'delivery_fee', 'delivery_time', 'distance', 'name', 'rating']]"
   ]
  },
  {
   "cell_type": "code",
   "execution_count": 6,
   "id": "3bb1cbda",
   "metadata": {},
   "outputs": [
    {
     "name": "stdout",
     "output_type": "stream",
     "text": [
      "Variaveis Numericas:  ['delivery_fee', 'delivery_time', 'distance', 'rating']\n",
      "Variaveis Categoricas:  ['category', 'name']\n"
     ]
    }
   ],
   "source": [
    "numericas = df_sel.select_dtypes(include=['int64', 'float64']).columns.tolist()\n",
    "categoricas = df_sel.select_dtypes(include=['object']).columns.tolist()\n",
    "\n",
    "print('Variaveis Numericas: ', numericas)\n",
    "print('Variaveis Categoricas: ', categoricas)"
   ]
  },
  {
   "cell_type": "markdown",
   "id": "9b2f57fd",
   "metadata": {},
   "source": [
    "## Usando função describe"
   ]
  },
  {
   "cell_type": "code",
   "execution_count": 7,
   "id": "46dc1cac",
   "metadata": {},
   "outputs": [
    {
     "data": {
      "text/html": [
       "<div>\n",
       "<style scoped>\n",
       "    .dataframe tbody tr th:only-of-type {\n",
       "        vertical-align: middle;\n",
       "    }\n",
       "\n",
       "    .dataframe tbody tr th {\n",
       "        vertical-align: top;\n",
       "    }\n",
       "\n",
       "    .dataframe thead th {\n",
       "        text-align: right;\n",
       "    }\n",
       "</style>\n",
       "<table border=\"1\" class=\"dataframe\">\n",
       "  <thead>\n",
       "    <tr style=\"text-align: right;\">\n",
       "      <th></th>\n",
       "      <th>delivery_fee</th>\n",
       "      <th>delivery_time</th>\n",
       "      <th>distance</th>\n",
       "      <th>rating</th>\n",
       "    </tr>\n",
       "  </thead>\n",
       "  <tbody>\n",
       "    <tr>\n",
       "      <th>count</th>\n",
       "      <td>361447.000000</td>\n",
       "      <td>361447.000000</td>\n",
       "      <td>361447.000000</td>\n",
       "      <td>361447.000000</td>\n",
       "    </tr>\n",
       "    <tr>\n",
       "      <th>mean</th>\n",
       "      <td>6.450367</td>\n",
       "      <td>47.758629</td>\n",
       "      <td>4.266978</td>\n",
       "      <td>2.767922</td>\n",
       "    </tr>\n",
       "    <tr>\n",
       "      <th>std</th>\n",
       "      <td>4.062925</td>\n",
       "      <td>19.586370</td>\n",
       "      <td>69.433192</td>\n",
       "      <td>2.254964</td>\n",
       "    </tr>\n",
       "    <tr>\n",
       "      <th>min</th>\n",
       "      <td>0.000000</td>\n",
       "      <td>-5.000000</td>\n",
       "      <td>0.010000</td>\n",
       "      <td>0.000000</td>\n",
       "    </tr>\n",
       "    <tr>\n",
       "      <th>25%</th>\n",
       "      <td>4.000000</td>\n",
       "      <td>35.000000</td>\n",
       "      <td>1.770000</td>\n",
       "      <td>0.000000</td>\n",
       "    </tr>\n",
       "    <tr>\n",
       "      <th>50%</th>\n",
       "      <td>5.990000</td>\n",
       "      <td>45.000000</td>\n",
       "      <td>3.060000</td>\n",
       "      <td>4.227270</td>\n",
       "    </tr>\n",
       "    <tr>\n",
       "      <th>75%</th>\n",
       "      <td>8.990000</td>\n",
       "      <td>60.000000</td>\n",
       "      <td>4.760000</td>\n",
       "      <td>4.758170</td>\n",
       "    </tr>\n",
       "    <tr>\n",
       "      <th>max</th>\n",
       "      <td>40.000000</td>\n",
       "      <td>5060.000000</td>\n",
       "      <td>11810.190000</td>\n",
       "      <td>5.000000</td>\n",
       "    </tr>\n",
       "  </tbody>\n",
       "</table>\n",
       "</div>"
      ],
      "text/plain": [
       "        delivery_fee  delivery_time       distance         rating\n",
       "count  361447.000000  361447.000000  361447.000000  361447.000000\n",
       "mean        6.450367      47.758629       4.266978       2.767922\n",
       "std         4.062925      19.586370      69.433192       2.254964\n",
       "min         0.000000      -5.000000       0.010000       0.000000\n",
       "25%         4.000000      35.000000       1.770000       0.000000\n",
       "50%         5.990000      45.000000       3.060000       4.227270\n",
       "75%         8.990000      60.000000       4.760000       4.758170\n",
       "max        40.000000    5060.000000   11810.190000       5.000000"
      ]
     },
     "execution_count": 7,
     "metadata": {},
     "output_type": "execute_result"
    }
   ],
   "source": [
    "df_sel.describe() # retorna as principais medidas estatisticas para as variaveis numericas"
   ]
  },
  {
   "cell_type": "markdown",
   "id": "aa7ef987",
   "metadata": {},
   "source": [
    "## Usando a função mode() "
   ]
  },
  {
   "cell_type": "code",
   "execution_count": 8,
   "id": "eee296f2",
   "metadata": {},
   "outputs": [
    {
     "data": {
      "text/plain": [
       "0    Lanches\n",
       "Name: category, dtype: object"
      ]
     },
     "execution_count": 8,
     "metadata": {},
     "output_type": "execute_result"
    }
   ],
   "source": [
    "df_sel['category'].mode()"
   ]
  },
  {
   "cell_type": "code",
   "execution_count": 9,
   "id": "4be54a19",
   "metadata": {},
   "outputs": [
    {
     "data": {
      "text/plain": [
       "'Lanches'"
      ]
     },
     "execution_count": 9,
     "metadata": {},
     "output_type": "execute_result"
    }
   ],
   "source": [
    "df['category'].mode()[0]"
   ]
  },
  {
   "cell_type": "code",
   "execution_count": 10,
   "id": "3645beb4",
   "metadata": {},
   "outputs": [
    {
     "data": {
      "text/plain": [
       "0.0"
      ]
     },
     "execution_count": 10,
     "metadata": {},
     "output_type": "execute_result"
    }
   ],
   "source": [
    "df_sel['delivery_fee'].mode()[0]"
   ]
  },
  {
   "cell_type": "markdown",
   "id": "9d215509",
   "metadata": {},
   "source": [
    "## Avaliando a moda das variaveis "
   ]
  },
  {
   "cell_type": "code",
   "execution_count": 11,
   "id": "ac939fcb",
   "metadata": {},
   "outputs": [
    {
     "name": "stdout",
     "output_type": "stream",
     "text": [
      "<><><><><><><><><><><><><><><><><>\n",
      "Variavel: category\n",
      "Moda: Lanches\n",
      "\n",
      "category\n",
      "Lanches          89331\n",
      "Brasileira       67027\n",
      "Doces & Bolos    34041\n",
      "Pizza            33797\n",
      "Açaí             17837\n",
      "Name: count, dtype: int64\n",
      "\n",
      "<><><><><><><><><><><><><><><><><>\n",
      "Variavel: name\n",
      "Moda: Sabor Caseiro\n",
      "\n",
      "name\n",
      "Sabor Caseiro        165\n",
      "Divino Sabor         113\n",
      "Sabor de Casa        102\n",
      "Doce Sabor           100\n",
      "Cantinho do Sabor     91\n",
      "Name: count, dtype: int64\n",
      "\n"
     ]
    }
   ],
   "source": [
    "for variavel in categoricas: \n",
    "    contagens = df_sel[variavel].value_counts()\n",
    "\n",
    "    if(len(contagens) > 1): \n",
    "        print(\"<><><><><><><><><><><><><><><><><>\")\n",
    "        print(f'Variavel: {variavel}')\n",
    "        print(f'Moda: {df_sel[variavel].mode()[0]}\\n')\n",
    "        print(f'{contagens.iloc[0:5]}\\n')\n",
    "    else:\n",
    "        print(\"<><><><><><><><><><><><><><><><><>\")\n",
    "        print(f'Variavel: {variavel}')\n",
    "        print(f'Moda: {df_sel[variavel].mode()[0]}\\n')\n",
    "        print(f'{contagens}\\n')\n"
   ]
  },
  {
   "cell_type": "markdown",
   "id": "0a12e8e0",
   "metadata": {},
   "source": [
    "## Função mean()"
   ]
  },
  {
   "cell_type": "code",
   "execution_count": 12,
   "id": "265c6076",
   "metadata": {},
   "outputs": [
    {
     "data": {
      "text/html": [
       "<div>\n",
       "<style scoped>\n",
       "    .dataframe tbody tr th:only-of-type {\n",
       "        vertical-align: middle;\n",
       "    }\n",
       "\n",
       "    .dataframe tbody tr th {\n",
       "        vertical-align: top;\n",
       "    }\n",
       "\n",
       "    .dataframe thead th {\n",
       "        text-align: right;\n",
       "    }\n",
       "</style>\n",
       "<table border=\"1\" class=\"dataframe\">\n",
       "  <thead>\n",
       "    <tr style=\"text-align: right;\">\n",
       "      <th></th>\n",
       "      <th>category</th>\n",
       "      <th>delivery_fee</th>\n",
       "      <th>delivery_time</th>\n",
       "      <th>distance</th>\n",
       "      <th>name</th>\n",
       "      <th>rating</th>\n",
       "    </tr>\n",
       "  </thead>\n",
       "  <tbody>\n",
       "    <tr>\n",
       "      <th>0</th>\n",
       "      <td>Lanches</td>\n",
       "      <td>9.00</td>\n",
       "      <td>80</td>\n",
       "      <td>6.20</td>\n",
       "      <td>El'moedor</td>\n",
       "      <td>4.30303</td>\n",
       "    </tr>\n",
       "    <tr>\n",
       "      <th>1</th>\n",
       "      <td>Doces &amp; Bolos</td>\n",
       "      <td>6.00</td>\n",
       "      <td>35</td>\n",
       "      <td>3.03</td>\n",
       "      <td>Delicia de Brigadeiro</td>\n",
       "      <td>0.00000</td>\n",
       "    </tr>\n",
       "    <tr>\n",
       "      <th>2</th>\n",
       "      <td>Brasileira</td>\n",
       "      <td>4.00</td>\n",
       "      <td>40</td>\n",
       "      <td>1.51</td>\n",
       "      <td>Pizzaria Rappi10 - Moreno</td>\n",
       "      <td>0.00000</td>\n",
       "    </tr>\n",
       "    <tr>\n",
       "      <th>3</th>\n",
       "      <td>Lanches</td>\n",
       "      <td>0.00</td>\n",
       "      <td>50</td>\n",
       "      <td>0.79</td>\n",
       "      <td>Tapioca Arretada</td>\n",
       "      <td>5.00000</td>\n",
       "    </tr>\n",
       "    <tr>\n",
       "      <th>4</th>\n",
       "      <td>Salgados</td>\n",
       "      <td>12.99</td>\n",
       "      <td>36</td>\n",
       "      <td>5.12</td>\n",
       "      <td>Minuto Kit Festa ( Salgados e Doces )</td>\n",
       "      <td>5.00000</td>\n",
       "    </tr>\n",
       "    <tr>\n",
       "      <th>...</th>\n",
       "      <td>...</td>\n",
       "      <td>...</td>\n",
       "      <td>...</td>\n",
       "      <td>...</td>\n",
       "      <td>...</td>\n",
       "      <td>...</td>\n",
       "    </tr>\n",
       "    <tr>\n",
       "      <th>361442</th>\n",
       "      <td>Brasileira</td>\n",
       "      <td>3.99</td>\n",
       "      <td>18</td>\n",
       "      <td>1.66</td>\n",
       "      <td>Restaurante Nosso Tempero</td>\n",
       "      <td>0.00000</td>\n",
       "    </tr>\n",
       "    <tr>\n",
       "      <th>361443</th>\n",
       "      <td>Lanches</td>\n",
       "      <td>3.99</td>\n",
       "      <td>18</td>\n",
       "      <td>1.70</td>\n",
       "      <td>Belgian Waffles</td>\n",
       "      <td>0.00000</td>\n",
       "    </tr>\n",
       "    <tr>\n",
       "      <th>361444</th>\n",
       "      <td>Pizza</td>\n",
       "      <td>8.00</td>\n",
       "      <td>45</td>\n",
       "      <td>1.34</td>\n",
       "      <td>Sabor de Campos Pizzaria e Restaurante</td>\n",
       "      <td>0.00000</td>\n",
       "    </tr>\n",
       "    <tr>\n",
       "      <th>361445</th>\n",
       "      <td>Cafeteria</td>\n",
       "      <td>1.00</td>\n",
       "      <td>35</td>\n",
       "      <td>0.20</td>\n",
       "      <td>Maria Bonita</td>\n",
       "      <td>0.00000</td>\n",
       "    </tr>\n",
       "    <tr>\n",
       "      <th>361446</th>\n",
       "      <td>Doces &amp; Bolos</td>\n",
       "      <td>0.00</td>\n",
       "      <td>60</td>\n",
       "      <td>0.96</td>\n",
       "      <td>Cacau Show - Supermercado Campos Salles</td>\n",
       "      <td>5.00000</td>\n",
       "    </tr>\n",
       "  </tbody>\n",
       "</table>\n",
       "<p>361447 rows × 6 columns</p>\n",
       "</div>"
      ],
      "text/plain": [
       "             category  delivery_fee  delivery_time  distance  \\\n",
       "0             Lanches          9.00             80      6.20   \n",
       "1       Doces & Bolos          6.00             35      3.03   \n",
       "2          Brasileira          4.00             40      1.51   \n",
       "3             Lanches          0.00             50      0.79   \n",
       "4            Salgados         12.99             36      5.12   \n",
       "...               ...           ...            ...       ...   \n",
       "361442     Brasileira          3.99             18      1.66   \n",
       "361443        Lanches          3.99             18      1.70   \n",
       "361444          Pizza          8.00             45      1.34   \n",
       "361445      Cafeteria          1.00             35      0.20   \n",
       "361446  Doces & Bolos          0.00             60      0.96   \n",
       "\n",
       "                                           name   rating  \n",
       "0                                     El'moedor  4.30303  \n",
       "1                         Delicia de Brigadeiro  0.00000  \n",
       "2                     Pizzaria Rappi10 - Moreno  0.00000  \n",
       "3                              Tapioca Arretada  5.00000  \n",
       "4         Minuto Kit Festa ( Salgados e Doces )  5.00000  \n",
       "...                                         ...      ...  \n",
       "361442                Restaurante Nosso Tempero  0.00000  \n",
       "361443                          Belgian Waffles  0.00000  \n",
       "361444   Sabor de Campos Pizzaria e Restaurante  0.00000  \n",
       "361445                             Maria Bonita  0.00000  \n",
       "361446  Cacau Show - Supermercado Campos Salles  5.00000  \n",
       "\n",
       "[361447 rows x 6 columns]"
      ]
     },
     "execution_count": 12,
     "metadata": {},
     "output_type": "execute_result"
    }
   ],
   "source": [
    "df_sel"
   ]
  },
  {
   "cell_type": "code",
   "execution_count": 13,
   "id": "afb97608",
   "metadata": {},
   "outputs": [
    {
     "data": {
      "text/plain": [
       "['delivery_fee', 'delivery_time', 'distance', 'rating']"
      ]
     },
     "execution_count": 13,
     "metadata": {},
     "output_type": "execute_result"
    }
   ],
   "source": [
    "numericas"
   ]
  },
  {
   "cell_type": "code",
   "execution_count": 14,
   "id": "9c2663ad",
   "metadata": {},
   "outputs": [
    {
     "data": {
      "text/plain": [
       "6.450366637432319"
      ]
     },
     "execution_count": 14,
     "metadata": {},
     "output_type": "execute_result"
    }
   ],
   "source": [
    "df_sel['delivery_fee'].mean()"
   ]
  },
  {
   "cell_type": "code",
   "execution_count": 15,
   "id": "26d45f9b",
   "metadata": {},
   "outputs": [
    {
     "data": {
      "text/plain": [
       "delivery_fee      6.450367\n",
       "delivery_time    47.758629\n",
       "distance          4.266978\n",
       "rating            2.767922\n",
       "dtype: float64"
      ]
     },
     "execution_count": 15,
     "metadata": {},
     "output_type": "execute_result"
    }
   ],
   "source": [
    "df_sel[numericas].mean()"
   ]
  },
  {
   "cell_type": "code",
   "execution_count": 16,
   "id": "75004475",
   "metadata": {},
   "outputs": [
    {
     "data": {
      "text/html": [
       "<div>\n",
       "<style scoped>\n",
       "    .dataframe tbody tr th:only-of-type {\n",
       "        vertical-align: middle;\n",
       "    }\n",
       "\n",
       "    .dataframe tbody tr th {\n",
       "        vertical-align: top;\n",
       "    }\n",
       "\n",
       "    .dataframe thead th {\n",
       "        text-align: right;\n",
       "    }\n",
       "</style>\n",
       "<table border=\"1\" class=\"dataframe\">\n",
       "  <thead>\n",
       "    <tr style=\"text-align: right;\">\n",
       "      <th></th>\n",
       "      <th>delivery_fee</th>\n",
       "      <th>delivery_time</th>\n",
       "      <th>distance</th>\n",
       "      <th>rating</th>\n",
       "    </tr>\n",
       "  </thead>\n",
       "  <tbody>\n",
       "    <tr>\n",
       "      <th>0</th>\n",
       "      <td>0.0</td>\n",
       "      <td>60</td>\n",
       "      <td>2.46</td>\n",
       "      <td>0.0</td>\n",
       "    </tr>\n",
       "  </tbody>\n",
       "</table>\n",
       "</div>"
      ],
      "text/plain": [
       "   delivery_fee  delivery_time  distance  rating\n",
       "0           0.0             60      2.46     0.0"
      ]
     },
     "execution_count": 16,
     "metadata": {},
     "output_type": "execute_result"
    }
   ],
   "source": [
    "df_sel[numericas].mode()"
   ]
  },
  {
   "cell_type": "code",
   "execution_count": 17,
   "id": "957cd891",
   "metadata": {},
   "outputs": [
    {
     "data": {
      "text/plain": [
       "6.450366637432319"
      ]
     },
     "execution_count": 17,
     "metadata": {},
     "output_type": "execute_result"
    }
   ],
   "source": [
    "# Calculando a media das variaveis numericas\n",
    "df_sel[\"delivery_fee\"].mean()"
   ]
  },
  {
   "cell_type": "code",
   "execution_count": 18,
   "id": "5364e570",
   "metadata": {},
   "outputs": [
    {
     "data": {
      "text/plain": [
       "delivery_fee      6.450367\n",
       "delivery_time    47.758629\n",
       "distance          4.266978\n",
       "rating            2.767922\n",
       "dtype: float64"
      ]
     },
     "execution_count": 18,
     "metadata": {},
     "output_type": "execute_result"
    }
   ],
   "source": [
    "df_sel[numericas].mean()"
   ]
  },
  {
   "cell_type": "code",
   "execution_count": 19,
   "id": "65fcfb16",
   "metadata": {},
   "outputs": [
    {
     "name": "stdout",
     "output_type": "stream",
     "text": [
      "delivery_fee: 6.450366637432319\n",
      "delivery_time: 47.75862851261734\n",
      "distance: 4.266977952507558\n",
      "rating: 2.7679222784281823\n"
     ]
    }
   ],
   "source": [
    "for variavel in numericas: \n",
    "    print(f'{variavel}: {df_sel[variavel].mean()}')"
   ]
  },
  {
   "cell_type": "markdown",
   "id": "631588cc",
   "metadata": {},
   "source": [
    "## Usando a função median()"
   ]
  },
  {
   "cell_type": "code",
   "execution_count": 20,
   "id": "98c764e8",
   "metadata": {},
   "outputs": [
    {
     "data": {
      "text/plain": [
       "5.99"
      ]
     },
     "execution_count": 20,
     "metadata": {},
     "output_type": "execute_result"
    }
   ],
   "source": [
    "df_sel[\"delivery_fee\"].median()"
   ]
  }
 ],
 "metadata": {
  "kernelspec": {
   "display_name": "base",
   "language": "python",
   "name": "python3"
  },
  "language_info": {
   "codemirror_mode": {
    "name": "ipython",
    "version": 3
   },
   "file_extension": ".py",
   "mimetype": "text/x-python",
   "name": "python",
   "nbconvert_exporter": "python",
   "pygments_lexer": "ipython3",
   "version": "3.12.4"
  }
 },
 "nbformat": 4,
 "nbformat_minor": 5
}
