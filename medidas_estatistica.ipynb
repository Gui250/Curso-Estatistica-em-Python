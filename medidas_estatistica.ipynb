{
 "cells": [
  {
   "cell_type": "markdown",
   "id": "9acf96d7",
   "metadata": {},
   "source": [
    "## Imports"
   ]
  },
  {
   "cell_type": "code",
   "execution_count": 12,
   "id": "135d3098",
   "metadata": {},
   "outputs": [],
   "source": [
    "import pandas as pd \n",
    "import numpy as np"
   ]
  },
  {
   "cell_type": "markdown",
   "id": "fd1564bc",
   "metadata": {},
   "source": [
    "## Lendo os Dados"
   ]
  },
  {
   "cell_type": "code",
   "execution_count": 13,
   "id": "7eaeaa88",
   "metadata": {},
   "outputs": [],
   "source": [
    "df = pd.read_csv('Datasets/ifood-restaurants-november-2020.csv', sep=',', header=0)"
   ]
  },
  {
   "cell_type": "code",
   "execution_count": 14,
   "id": "87d2c011",
   "metadata": {},
   "outputs": [
    {
     "data": {
      "text/html": [
       "<div>\n",
       "<style scoped>\n",
       "    .dataframe tbody tr th:only-of-type {\n",
       "        vertical-align: middle;\n",
       "    }\n",
       "\n",
       "    .dataframe tbody tr th {\n",
       "        vertical-align: top;\n",
       "    }\n",
       "\n",
       "    .dataframe thead th {\n",
       "        text-align: right;\n",
       "    }\n",
       "</style>\n",
       "<table border=\"1\" class=\"dataframe\">\n",
       "  <thead>\n",
       "    <tr style=\"text-align: right;\">\n",
       "      <th></th>\n",
       "      <th>version https://git-lfs.github.com/spec/v1</th>\n",
       "    </tr>\n",
       "  </thead>\n",
       "  <tbody>\n",
       "    <tr>\n",
       "      <th>0</th>\n",
       "      <td>oid sha256:f4257c847618dc1bcf739c2d142592300ed...</td>\n",
       "    </tr>\n",
       "    <tr>\n",
       "      <th>1</th>\n",
       "      <td>size 119072837</td>\n",
       "    </tr>\n",
       "  </tbody>\n",
       "</table>\n",
       "</div>"
      ],
      "text/plain": [
       "          version https://git-lfs.github.com/spec/v1\n",
       "0  oid sha256:f4257c847618dc1bcf739c2d142592300ed...\n",
       "1                                     size 119072837"
      ]
     },
     "execution_count": 14,
     "metadata": {},
     "output_type": "execute_result"
    }
   ],
   "source": [
    "df.head(5)"
   ]
  },
  {
   "cell_type": "markdown",
   "id": "b3775206",
   "metadata": {},
   "source": [
    "## Selecionando Variaveis Covenientes"
   ]
  },
  {
   "cell_type": "code",
   "execution_count": 16,
   "id": "e113ec09",
   "metadata": {},
   "outputs": [
    {
     "ename": "KeyError",
     "evalue": "\"None of [Index(['category', 'delivery_fee', 'delivery_time', 'distance', 'name',\\n       'rating'],\\n      dtype='object')] are in the [columns]\"",
     "output_type": "error",
     "traceback": [
      "\u001b[0;31m---------------------------------------------------------------------------\u001b[0m",
      "\u001b[0;31mKeyError\u001b[0m                                  Traceback (most recent call last)",
      "Cell \u001b[0;32mIn[16], line 1\u001b[0m\n\u001b[0;32m----> 1\u001b[0m df_sel \u001b[38;5;241m=\u001b[39m df[[\u001b[38;5;124m'\u001b[39m\u001b[38;5;124mcategory\u001b[39m\u001b[38;5;124m'\u001b[39m, \u001b[38;5;124m'\u001b[39m\u001b[38;5;124mdelivery_fee\u001b[39m\u001b[38;5;124m'\u001b[39m, \u001b[38;5;124m'\u001b[39m\u001b[38;5;124mdelivery_time\u001b[39m\u001b[38;5;124m'\u001b[39m, \u001b[38;5;124m'\u001b[39m\u001b[38;5;124mdistance\u001b[39m\u001b[38;5;124m'\u001b[39m, \u001b[38;5;124m'\u001b[39m\u001b[38;5;124mname\u001b[39m\u001b[38;5;124m'\u001b[39m, \u001b[38;5;124m'\u001b[39m\u001b[38;5;124mrating\u001b[39m\u001b[38;5;124m'\u001b[39m]]\n",
      "File \u001b[0;32m/opt/anaconda3/lib/python3.13/site-packages/pandas/core/frame.py:4108\u001b[0m, in \u001b[0;36mDataFrame.__getitem__\u001b[0;34m(self, key)\u001b[0m\n\u001b[1;32m   4106\u001b[0m     \u001b[38;5;28;01mif\u001b[39;00m is_iterator(key):\n\u001b[1;32m   4107\u001b[0m         key \u001b[38;5;241m=\u001b[39m \u001b[38;5;28mlist\u001b[39m(key)\n\u001b[0;32m-> 4108\u001b[0m     indexer \u001b[38;5;241m=\u001b[39m \u001b[38;5;28mself\u001b[39m\u001b[38;5;241m.\u001b[39mcolumns\u001b[38;5;241m.\u001b[39m_get_indexer_strict(key, \u001b[38;5;124m\"\u001b[39m\u001b[38;5;124mcolumns\u001b[39m\u001b[38;5;124m\"\u001b[39m)[\u001b[38;5;241m1\u001b[39m]\n\u001b[1;32m   4110\u001b[0m \u001b[38;5;66;03m# take() does not accept boolean indexers\u001b[39;00m\n\u001b[1;32m   4111\u001b[0m \u001b[38;5;28;01mif\u001b[39;00m \u001b[38;5;28mgetattr\u001b[39m(indexer, \u001b[38;5;124m\"\u001b[39m\u001b[38;5;124mdtype\u001b[39m\u001b[38;5;124m\"\u001b[39m, \u001b[38;5;28;01mNone\u001b[39;00m) \u001b[38;5;241m==\u001b[39m \u001b[38;5;28mbool\u001b[39m:\n",
      "File \u001b[0;32m/opt/anaconda3/lib/python3.13/site-packages/pandas/core/indexes/base.py:6200\u001b[0m, in \u001b[0;36mIndex._get_indexer_strict\u001b[0;34m(self, key, axis_name)\u001b[0m\n\u001b[1;32m   6197\u001b[0m \u001b[38;5;28;01melse\u001b[39;00m:\n\u001b[1;32m   6198\u001b[0m     keyarr, indexer, new_indexer \u001b[38;5;241m=\u001b[39m \u001b[38;5;28mself\u001b[39m\u001b[38;5;241m.\u001b[39m_reindex_non_unique(keyarr)\n\u001b[0;32m-> 6200\u001b[0m \u001b[38;5;28mself\u001b[39m\u001b[38;5;241m.\u001b[39m_raise_if_missing(keyarr, indexer, axis_name)\n\u001b[1;32m   6202\u001b[0m keyarr \u001b[38;5;241m=\u001b[39m \u001b[38;5;28mself\u001b[39m\u001b[38;5;241m.\u001b[39mtake(indexer)\n\u001b[1;32m   6203\u001b[0m \u001b[38;5;28;01mif\u001b[39;00m \u001b[38;5;28misinstance\u001b[39m(key, Index):\n\u001b[1;32m   6204\u001b[0m     \u001b[38;5;66;03m# GH 42790 - Preserve name from an Index\u001b[39;00m\n",
      "File \u001b[0;32m/opt/anaconda3/lib/python3.13/site-packages/pandas/core/indexes/base.py:6249\u001b[0m, in \u001b[0;36mIndex._raise_if_missing\u001b[0;34m(self, key, indexer, axis_name)\u001b[0m\n\u001b[1;32m   6247\u001b[0m \u001b[38;5;28;01mif\u001b[39;00m nmissing:\n\u001b[1;32m   6248\u001b[0m     \u001b[38;5;28;01mif\u001b[39;00m nmissing \u001b[38;5;241m==\u001b[39m \u001b[38;5;28mlen\u001b[39m(indexer):\n\u001b[0;32m-> 6249\u001b[0m         \u001b[38;5;28;01mraise\u001b[39;00m \u001b[38;5;167;01mKeyError\u001b[39;00m(\u001b[38;5;124mf\u001b[39m\u001b[38;5;124m\"\u001b[39m\u001b[38;5;124mNone of [\u001b[39m\u001b[38;5;132;01m{\u001b[39;00mkey\u001b[38;5;132;01m}\u001b[39;00m\u001b[38;5;124m] are in the [\u001b[39m\u001b[38;5;132;01m{\u001b[39;00maxis_name\u001b[38;5;132;01m}\u001b[39;00m\u001b[38;5;124m]\u001b[39m\u001b[38;5;124m\"\u001b[39m)\n\u001b[1;32m   6251\u001b[0m     not_found \u001b[38;5;241m=\u001b[39m \u001b[38;5;28mlist\u001b[39m(ensure_index(key)[missing_mask\u001b[38;5;241m.\u001b[39mnonzero()[\u001b[38;5;241m0\u001b[39m]]\u001b[38;5;241m.\u001b[39munique())\n\u001b[1;32m   6252\u001b[0m     \u001b[38;5;28;01mraise\u001b[39;00m \u001b[38;5;167;01mKeyError\u001b[39;00m(\u001b[38;5;124mf\u001b[39m\u001b[38;5;124m\"\u001b[39m\u001b[38;5;132;01m{\u001b[39;00mnot_found\u001b[38;5;132;01m}\u001b[39;00m\u001b[38;5;124m not in index\u001b[39m\u001b[38;5;124m\"\u001b[39m)\n",
      "\u001b[0;31mKeyError\u001b[0m: \"None of [Index(['category', 'delivery_fee', 'delivery_time', 'distance', 'name',\\n       'rating'],\\n      dtype='object')] are in the [columns]\""
     ]
    }
   ],
   "source": [
    "df_sel = df[['category', 'delivery_fee', 'delivery_time', 'distance', 'name', 'rating']]"
   ]
  },
  {
   "cell_type": "code",
   "execution_count": null,
   "id": "3bb1cbda",
   "metadata": {},
   "outputs": [
    {
     "name": "stdout",
     "output_type": "stream",
     "text": [
      "Variaveis Numericas:  ['delivery_fee', 'delivery_time', 'distance', 'rating']\n",
      "Variaveis Categoricas:  ['category', 'name']\n"
     ]
    }
   ],
   "source": [
    "numericas = df_sel.select_dtypes(include=['int64', 'float64']).columns.tolist()\n",
    "categoricas = df_sel.select_dtypes(include=['object']).columns.tolist()\n",
    "\n",
    "print('Variaveis Numericas: ', numericas)\n",
    "print('Variaveis Categoricas: ', categoricas)"
   ]
  },
  {
   "cell_type": "code",
   "execution_count": null,
   "id": "77ca8ab2",
   "metadata": {},
   "outputs": [
    {
     "data": {
      "text/plain": [
       "'rating'"
      ]
     },
     "execution_count": 6,
     "metadata": {},
     "output_type": "execute_result"
    }
   ],
   "source": [
    "# Removendo item da lista\n",
    "numericas.pop(3)\n"
   ]
  },
  {
   "cell_type": "markdown",
   "id": "9b2f57fd",
   "metadata": {},
   "source": [
    "## Usando função describe"
   ]
  },
  {
   "cell_type": "code",
   "execution_count": null,
   "id": "46dc1cac",
   "metadata": {},
   "outputs": [
    {
     "data": {
      "text/html": [
       "<div>\n",
       "<style scoped>\n",
       "    .dataframe tbody tr th:only-of-type {\n",
       "        vertical-align: middle;\n",
       "    }\n",
       "\n",
       "    .dataframe tbody tr th {\n",
       "        vertical-align: top;\n",
       "    }\n",
       "\n",
       "    .dataframe thead th {\n",
       "        text-align: right;\n",
       "    }\n",
       "</style>\n",
       "<table border=\"1\" class=\"dataframe\">\n",
       "  <thead>\n",
       "    <tr style=\"text-align: right;\">\n",
       "      <th></th>\n",
       "      <th>delivery_fee</th>\n",
       "      <th>delivery_time</th>\n",
       "      <th>distance</th>\n",
       "      <th>rating</th>\n",
       "    </tr>\n",
       "  </thead>\n",
       "  <tbody>\n",
       "    <tr>\n",
       "      <th>count</th>\n",
       "      <td>361447.000000</td>\n",
       "      <td>361447.000000</td>\n",
       "      <td>361447.000000</td>\n",
       "      <td>361447.000000</td>\n",
       "    </tr>\n",
       "    <tr>\n",
       "      <th>mean</th>\n",
       "      <td>6.450367</td>\n",
       "      <td>47.758629</td>\n",
       "      <td>4.266978</td>\n",
       "      <td>2.767922</td>\n",
       "    </tr>\n",
       "    <tr>\n",
       "      <th>std</th>\n",
       "      <td>4.062925</td>\n",
       "      <td>19.586370</td>\n",
       "      <td>69.433192</td>\n",
       "      <td>2.254964</td>\n",
       "    </tr>\n",
       "    <tr>\n",
       "      <th>min</th>\n",
       "      <td>0.000000</td>\n",
       "      <td>-5.000000</td>\n",
       "      <td>0.010000</td>\n",
       "      <td>0.000000</td>\n",
       "    </tr>\n",
       "    <tr>\n",
       "      <th>25%</th>\n",
       "      <td>4.000000</td>\n",
       "      <td>35.000000</td>\n",
       "      <td>1.770000</td>\n",
       "      <td>0.000000</td>\n",
       "    </tr>\n",
       "    <tr>\n",
       "      <th>50%</th>\n",
       "      <td>5.990000</td>\n",
       "      <td>45.000000</td>\n",
       "      <td>3.060000</td>\n",
       "      <td>4.227270</td>\n",
       "    </tr>\n",
       "    <tr>\n",
       "      <th>75%</th>\n",
       "      <td>8.990000</td>\n",
       "      <td>60.000000</td>\n",
       "      <td>4.760000</td>\n",
       "      <td>4.758170</td>\n",
       "    </tr>\n",
       "    <tr>\n",
       "      <th>max</th>\n",
       "      <td>40.000000</td>\n",
       "      <td>5060.000000</td>\n",
       "      <td>11810.190000</td>\n",
       "      <td>5.000000</td>\n",
       "    </tr>\n",
       "  </tbody>\n",
       "</table>\n",
       "</div>"
      ],
      "text/plain": [
       "        delivery_fee  delivery_time       distance         rating\n",
       "count  361447.000000  361447.000000  361447.000000  361447.000000\n",
       "mean        6.450367      47.758629       4.266978       2.767922\n",
       "std         4.062925      19.586370      69.433192       2.254964\n",
       "min         0.000000      -5.000000       0.010000       0.000000\n",
       "25%         4.000000      35.000000       1.770000       0.000000\n",
       "50%         5.990000      45.000000       3.060000       4.227270\n",
       "75%         8.990000      60.000000       4.760000       4.758170\n",
       "max        40.000000    5060.000000   11810.190000       5.000000"
      ]
     },
     "execution_count": 7,
     "metadata": {},
     "output_type": "execute_result"
    }
   ],
   "source": [
    "df_sel.describe() # retorna as principais medidas estatisticas para as variaveis numericas"
   ]
  },
  {
   "cell_type": "markdown",
   "id": "aa7ef987",
   "metadata": {},
   "source": [
    "## Usando a função mode() "
   ]
  },
  {
   "cell_type": "code",
   "execution_count": null,
   "id": "eee296f2",
   "metadata": {},
   "outputs": [
    {
     "data": {
      "text/plain": [
       "0    Lanches\n",
       "Name: category, dtype: object"
      ]
     },
     "execution_count": 8,
     "metadata": {},
     "output_type": "execute_result"
    }
   ],
   "source": [
    "df_sel['category'].mode()"
   ]
  },
  {
   "cell_type": "code",
   "execution_count": null,
   "id": "4be54a19",
   "metadata": {},
   "outputs": [
    {
     "data": {
      "text/plain": [
       "'Lanches'"
      ]
     },
     "execution_count": 9,
     "metadata": {},
     "output_type": "execute_result"
    }
   ],
   "source": [
    "df['category'].mode()[0]"
   ]
  },
  {
   "cell_type": "code",
   "execution_count": null,
   "id": "3645beb4",
   "metadata": {},
   "outputs": [
    {
     "data": {
      "text/plain": [
       "0.0"
      ]
     },
     "execution_count": 10,
     "metadata": {},
     "output_type": "execute_result"
    }
   ],
   "source": [
    "df_sel['delivery_fee'].mode()[0]"
   ]
  },
  {
   "cell_type": "markdown",
   "id": "9d215509",
   "metadata": {},
   "source": [
    "## Avaliando a moda das variaveis "
   ]
  },
  {
   "cell_type": "code",
   "execution_count": null,
   "id": "ac939fcb",
   "metadata": {},
   "outputs": [
    {
     "name": "stdout",
     "output_type": "stream",
     "text": [
      "<><><><><><><><><><><><><><><><><>\n",
      "Variavel: category\n",
      "Moda: Lanches\n",
      "\n",
      "category\n",
      "Lanches          89331\n",
      "Brasileira       67027\n",
      "Doces & Bolos    34041\n",
      "Pizza            33797\n",
      "Açaí             17837\n",
      "Name: count, dtype: int64\n",
      "\n",
      "<><><><><><><><><><><><><><><><><>\n",
      "Variavel: name\n",
      "Moda: Sabor Caseiro\n",
      "\n",
      "name\n",
      "Sabor Caseiro        165\n",
      "Divino Sabor         113\n",
      "Sabor de Casa        102\n",
      "Doce Sabor           100\n",
      "Cantinho do Sabor     91\n",
      "Name: count, dtype: int64\n",
      "\n"
     ]
    }
   ],
   "source": [
    "for variavel in categoricas: \n",
    "    contagens = df_sel[variavel].value_counts()\n",
    "\n",
    "    if(len(contagens) > 1): \n",
    "        print(\"<><><><><><><><><><><><><><><><><>\")\n",
    "        print(f'Variavel: {variavel}')\n",
    "        print(f'Moda: {df_sel[variavel].mode()[0]}\\n')\n",
    "        print(f'{contagens.iloc[0:5]}\\n')\n",
    "    else:\n",
    "        print(\"<><><><><><><><><><><><><><><><><>\")\n",
    "        print(f'Variavel: {variavel}')\n",
    "        print(f'Moda: {df_sel[variavel].mode()[0]}\\n')\n",
    "        print(f'{contagens}\\n')\n"
   ]
  },
  {
   "cell_type": "code",
   "execution_count": null,
   "id": "7817ec39",
   "metadata": {},
   "outputs": [
    {
     "name": "stdout",
     "output_type": "stream",
     "text": [
      "Amplitude de delivery_fee: 40.0\n",
      "Amplitude de delivery_time: 5065\n",
      "Amplitude de distance: 11810.18\n"
     ]
    }
   ],
   "source": [
    "for variavel in numericas: \n",
    "    # Calculando a amplitude\n",
    "    amplitude = df_sel[variavel].max() - df_sel[variavel].min()\n",
    "\n",
    "    # Imprime o resultado \n",
    "    resultado = f'Amplitude de {variavel}: {amplitude}'\n",
    "    print(resultado)\n"
   ]
  },
  {
   "cell_type": "markdown",
   "id": "0a12e8e0",
   "metadata": {},
   "source": [
    "## Função mean()"
   ]
  },
  {
   "cell_type": "code",
   "execution_count": null,
   "id": "265c6076",
   "metadata": {},
   "outputs": [
    {
     "data": {
      "text/html": [
       "<div>\n",
       "<style scoped>\n",
       "    .dataframe tbody tr th:only-of-type {\n",
       "        vertical-align: middle;\n",
       "    }\n",
       "\n",
       "    .dataframe tbody tr th {\n",
       "        vertical-align: top;\n",
       "    }\n",
       "\n",
       "    .dataframe thead th {\n",
       "        text-align: right;\n",
       "    }\n",
       "</style>\n",
       "<table border=\"1\" class=\"dataframe\">\n",
       "  <thead>\n",
       "    <tr style=\"text-align: right;\">\n",
       "      <th></th>\n",
       "      <th>category</th>\n",
       "      <th>delivery_fee</th>\n",
       "      <th>delivery_time</th>\n",
       "      <th>distance</th>\n",
       "      <th>name</th>\n",
       "      <th>rating</th>\n",
       "    </tr>\n",
       "  </thead>\n",
       "  <tbody>\n",
       "    <tr>\n",
       "      <th>0</th>\n",
       "      <td>Lanches</td>\n",
       "      <td>9.00</td>\n",
       "      <td>80</td>\n",
       "      <td>6.20</td>\n",
       "      <td>El'moedor</td>\n",
       "      <td>4.30303</td>\n",
       "    </tr>\n",
       "    <tr>\n",
       "      <th>1</th>\n",
       "      <td>Doces &amp; Bolos</td>\n",
       "      <td>6.00</td>\n",
       "      <td>35</td>\n",
       "      <td>3.03</td>\n",
       "      <td>Delicia de Brigadeiro</td>\n",
       "      <td>0.00000</td>\n",
       "    </tr>\n",
       "    <tr>\n",
       "      <th>2</th>\n",
       "      <td>Brasileira</td>\n",
       "      <td>4.00</td>\n",
       "      <td>40</td>\n",
       "      <td>1.51</td>\n",
       "      <td>Pizzaria Rappi10 - Moreno</td>\n",
       "      <td>0.00000</td>\n",
       "    </tr>\n",
       "    <tr>\n",
       "      <th>3</th>\n",
       "      <td>Lanches</td>\n",
       "      <td>0.00</td>\n",
       "      <td>50</td>\n",
       "      <td>0.79</td>\n",
       "      <td>Tapioca Arretada</td>\n",
       "      <td>5.00000</td>\n",
       "    </tr>\n",
       "    <tr>\n",
       "      <th>4</th>\n",
       "      <td>Salgados</td>\n",
       "      <td>12.99</td>\n",
       "      <td>36</td>\n",
       "      <td>5.12</td>\n",
       "      <td>Minuto Kit Festa ( Salgados e Doces )</td>\n",
       "      <td>5.00000</td>\n",
       "    </tr>\n",
       "    <tr>\n",
       "      <th>...</th>\n",
       "      <td>...</td>\n",
       "      <td>...</td>\n",
       "      <td>...</td>\n",
       "      <td>...</td>\n",
       "      <td>...</td>\n",
       "      <td>...</td>\n",
       "    </tr>\n",
       "    <tr>\n",
       "      <th>361442</th>\n",
       "      <td>Brasileira</td>\n",
       "      <td>3.99</td>\n",
       "      <td>18</td>\n",
       "      <td>1.66</td>\n",
       "      <td>Restaurante Nosso Tempero</td>\n",
       "      <td>0.00000</td>\n",
       "    </tr>\n",
       "    <tr>\n",
       "      <th>361443</th>\n",
       "      <td>Lanches</td>\n",
       "      <td>3.99</td>\n",
       "      <td>18</td>\n",
       "      <td>1.70</td>\n",
       "      <td>Belgian Waffles</td>\n",
       "      <td>0.00000</td>\n",
       "    </tr>\n",
       "    <tr>\n",
       "      <th>361444</th>\n",
       "      <td>Pizza</td>\n",
       "      <td>8.00</td>\n",
       "      <td>45</td>\n",
       "      <td>1.34</td>\n",
       "      <td>Sabor de Campos Pizzaria e Restaurante</td>\n",
       "      <td>0.00000</td>\n",
       "    </tr>\n",
       "    <tr>\n",
       "      <th>361445</th>\n",
       "      <td>Cafeteria</td>\n",
       "      <td>1.00</td>\n",
       "      <td>35</td>\n",
       "      <td>0.20</td>\n",
       "      <td>Maria Bonita</td>\n",
       "      <td>0.00000</td>\n",
       "    </tr>\n",
       "    <tr>\n",
       "      <th>361446</th>\n",
       "      <td>Doces &amp; Bolos</td>\n",
       "      <td>0.00</td>\n",
       "      <td>60</td>\n",
       "      <td>0.96</td>\n",
       "      <td>Cacau Show - Supermercado Campos Salles</td>\n",
       "      <td>5.00000</td>\n",
       "    </tr>\n",
       "  </tbody>\n",
       "</table>\n",
       "<p>361447 rows × 6 columns</p>\n",
       "</div>"
      ],
      "text/plain": [
       "             category  delivery_fee  delivery_time  distance  \\\n",
       "0             Lanches          9.00             80      6.20   \n",
       "1       Doces & Bolos          6.00             35      3.03   \n",
       "2          Brasileira          4.00             40      1.51   \n",
       "3             Lanches          0.00             50      0.79   \n",
       "4            Salgados         12.99             36      5.12   \n",
       "...               ...           ...            ...       ...   \n",
       "361442     Brasileira          3.99             18      1.66   \n",
       "361443        Lanches          3.99             18      1.70   \n",
       "361444          Pizza          8.00             45      1.34   \n",
       "361445      Cafeteria          1.00             35      0.20   \n",
       "361446  Doces & Bolos          0.00             60      0.96   \n",
       "\n",
       "                                           name   rating  \n",
       "0                                     El'moedor  4.30303  \n",
       "1                         Delicia de Brigadeiro  0.00000  \n",
       "2                     Pizzaria Rappi10 - Moreno  0.00000  \n",
       "3                              Tapioca Arretada  5.00000  \n",
       "4         Minuto Kit Festa ( Salgados e Doces )  5.00000  \n",
       "...                                         ...      ...  \n",
       "361442                Restaurante Nosso Tempero  0.00000  \n",
       "361443                          Belgian Waffles  0.00000  \n",
       "361444   Sabor de Campos Pizzaria e Restaurante  0.00000  \n",
       "361445                             Maria Bonita  0.00000  \n",
       "361446  Cacau Show - Supermercado Campos Salles  5.00000  \n",
       "\n",
       "[361447 rows x 6 columns]"
      ]
     },
     "execution_count": 13,
     "metadata": {},
     "output_type": "execute_result"
    }
   ],
   "source": [
    "df_sel"
   ]
  },
  {
   "cell_type": "code",
   "execution_count": null,
   "id": "afb97608",
   "metadata": {},
   "outputs": [
    {
     "data": {
      "text/plain": [
       "['delivery_fee', 'delivery_time', 'distance']"
      ]
     },
     "execution_count": 14,
     "metadata": {},
     "output_type": "execute_result"
    }
   ],
   "source": [
    "numericas"
   ]
  },
  {
   "cell_type": "code",
   "execution_count": null,
   "id": "9c2663ad",
   "metadata": {},
   "outputs": [
    {
     "data": {
      "text/plain": [
       "6.450366637432319"
      ]
     },
     "execution_count": 15,
     "metadata": {},
     "output_type": "execute_result"
    }
   ],
   "source": [
    "df_sel['delivery_fee'].mean()"
   ]
  },
  {
   "cell_type": "code",
   "execution_count": null,
   "id": "26d45f9b",
   "metadata": {},
   "outputs": [
    {
     "data": {
      "text/plain": [
       "delivery_fee      6.450367\n",
       "delivery_time    47.758629\n",
       "distance          4.266978\n",
       "dtype: float64"
      ]
     },
     "execution_count": 16,
     "metadata": {},
     "output_type": "execute_result"
    }
   ],
   "source": [
    "df_sel[numericas].mean()"
   ]
  },
  {
   "cell_type": "code",
   "execution_count": null,
   "id": "75004475",
   "metadata": {},
   "outputs": [
    {
     "data": {
      "text/html": [
       "<div>\n",
       "<style scoped>\n",
       "    .dataframe tbody tr th:only-of-type {\n",
       "        vertical-align: middle;\n",
       "    }\n",
       "\n",
       "    .dataframe tbody tr th {\n",
       "        vertical-align: top;\n",
       "    }\n",
       "\n",
       "    .dataframe thead th {\n",
       "        text-align: right;\n",
       "    }\n",
       "</style>\n",
       "<table border=\"1\" class=\"dataframe\">\n",
       "  <thead>\n",
       "    <tr style=\"text-align: right;\">\n",
       "      <th></th>\n",
       "      <th>delivery_fee</th>\n",
       "      <th>delivery_time</th>\n",
       "      <th>distance</th>\n",
       "    </tr>\n",
       "  </thead>\n",
       "  <tbody>\n",
       "    <tr>\n",
       "      <th>0</th>\n",
       "      <td>0.0</td>\n",
       "      <td>60</td>\n",
       "      <td>2.46</td>\n",
       "    </tr>\n",
       "  </tbody>\n",
       "</table>\n",
       "</div>"
      ],
      "text/plain": [
       "   delivery_fee  delivery_time  distance\n",
       "0           0.0             60      2.46"
      ]
     },
     "execution_count": 17,
     "metadata": {},
     "output_type": "execute_result"
    }
   ],
   "source": [
    "df_sel[numericas].mode()"
   ]
  },
  {
   "cell_type": "code",
   "execution_count": null,
   "id": "957cd891",
   "metadata": {},
   "outputs": [
    {
     "data": {
      "text/plain": [
       "6.450366637432319"
      ]
     },
     "execution_count": 18,
     "metadata": {},
     "output_type": "execute_result"
    }
   ],
   "source": [
    "# Calculando a media das variaveis numericas\n",
    "df_sel[\"delivery_fee\"].mean()"
   ]
  },
  {
   "cell_type": "code",
   "execution_count": null,
   "id": "5364e570",
   "metadata": {},
   "outputs": [
    {
     "data": {
      "text/plain": [
       "delivery_fee      6.450367\n",
       "delivery_time    47.758629\n",
       "distance          4.266978\n",
       "dtype: float64"
      ]
     },
     "execution_count": 19,
     "metadata": {},
     "output_type": "execute_result"
    }
   ],
   "source": [
    "df_sel[numericas].mean()"
   ]
  },
  {
   "cell_type": "code",
   "execution_count": null,
   "id": "65fcfb16",
   "metadata": {},
   "outputs": [
    {
     "name": "stdout",
     "output_type": "stream",
     "text": [
      "delivery_fee: 6.450366637432319\n",
      "delivery_time: 47.75862851261734\n",
      "distance: 4.266977952507558\n"
     ]
    }
   ],
   "source": [
    "for variavel in numericas: \n",
    "    print(f'{variavel}: {df_sel[variavel].mean()}')"
   ]
  },
  {
   "cell_type": "markdown",
   "id": "631588cc",
   "metadata": {},
   "source": [
    "## Usando a função median()"
   ]
  },
  {
   "cell_type": "code",
   "execution_count": null,
   "id": "98c764e8",
   "metadata": {},
   "outputs": [
    {
     "data": {
      "text/plain": [
       "5.99"
      ]
     },
     "execution_count": 21,
     "metadata": {},
     "output_type": "execute_result"
    }
   ],
   "source": [
    "df_sel[\"delivery_fee\"].median()"
   ]
  },
  {
   "cell_type": "markdown",
   "id": "f30ea544",
   "metadata": {},
   "source": [
    "## var() - Variância"
   ]
  },
  {
   "cell_type": "code",
   "execution_count": null,
   "id": "0d9e9662",
   "metadata": {},
   "outputs": [
    {
     "data": {
      "text/plain": [
       "delivery_fee       16.507356\n",
       "delivery_time     383.625905\n",
       "distance         4820.968178\n",
       "dtype: float64"
      ]
     },
     "execution_count": 22,
     "metadata": {},
     "output_type": "execute_result"
    }
   ],
   "source": [
    "df[numericas].var()"
   ]
  },
  {
   "cell_type": "code",
   "execution_count": null,
   "id": "d6e5d4a2",
   "metadata": {},
   "outputs": [
    {
     "data": {
      "text/plain": [
       "delivery_fee      4.062925\n",
       "delivery_time    19.586370\n",
       "distance         69.433192\n",
       "dtype: float64"
      ]
     },
     "execution_count": 23,
     "metadata": {},
     "output_type": "execute_result"
    }
   ],
   "source": [
    "df[numericas].std() # desvio padrão"
   ]
  },
  {
   "cell_type": "code",
   "execution_count": null,
   "id": "227e0aa1",
   "metadata": {},
   "outputs": [
    {
     "name": "stdout",
     "output_type": "stream",
     "text": [
      "Variância:\n",
      "delivery_fee       16.507356\n",
      "delivery_time     383.625905\n",
      "distance         4820.968178\n",
      "dtype: float64\n",
      "\n",
      "Desvio Padrão:\n",
      "delivery_fee      4.062925\n",
      "delivery_time    19.586370\n",
      "distance         69.433192\n",
      "dtype: float64\n"
     ]
    }
   ],
   "source": [
    "variancia = df[numericas].var()\n",
    "desvio_padrao = df[numericas].std()\n",
    "\n",
    "# Imprime Resultado\n",
    "print(\"Variância:\")\n",
    "print(variancia)\n",
    "print(\"\\nDesvio Padrão:\")\n",
    "print(desvio_padrao)\n"
   ]
  },
  {
   "cell_type": "markdown",
   "id": "06a01ced",
   "metadata": {},
   "source": [
    "## Criando Boxplots"
   ]
  },
  {
   "cell_type": "code",
   "execution_count": 18,
   "id": "f0315458",
   "metadata": {},
   "outputs": [],
   "source": [
    "import matplotlib.pyplot as plt \n",
    "import pandas as pd"
   ]
  },
  {
   "cell_type": "code",
   "execution_count": 19,
   "id": "8c43ad0e",
   "metadata": {},
   "outputs": [
    {
     "data": {
      "text/html": [
       "<div>\n",
       "<style scoped>\n",
       "    .dataframe tbody tr th:only-of-type {\n",
       "        vertical-align: middle;\n",
       "    }\n",
       "\n",
       "    .dataframe tbody tr th {\n",
       "        vertical-align: top;\n",
       "    }\n",
       "\n",
       "    .dataframe thead th {\n",
       "        text-align: right;\n",
       "    }\n",
       "</style>\n",
       "<table border=\"1\" class=\"dataframe\">\n",
       "  <thead>\n",
       "    <tr style=\"text-align: right;\">\n",
       "      <th></th>\n",
       "      <th>version https://git-lfs.github.com/spec/v1</th>\n",
       "    </tr>\n",
       "  </thead>\n",
       "  <tbody>\n",
       "    <tr>\n",
       "      <th>0</th>\n",
       "      <td>oid sha256:f4257c847618dc1bcf739c2d142592300ed...</td>\n",
       "    </tr>\n",
       "    <tr>\n",
       "      <th>1</th>\n",
       "      <td>size 119072837</td>\n",
       "    </tr>\n",
       "  </tbody>\n",
       "</table>\n",
       "</div>"
      ],
      "text/plain": [
       "          version https://git-lfs.github.com/spec/v1\n",
       "0  oid sha256:f4257c847618dc1bcf739c2d142592300ed...\n",
       "1                                     size 119072837"
      ]
     },
     "execution_count": 19,
     "metadata": {},
     "output_type": "execute_result"
    }
   ],
   "source": [
    "dataframe = pd.read_csv('Datasets/ifood-restaurants-november-2020.csv', sep=',', header=0)\n",
    "dataframe "
   ]
  },
  {
   "cell_type": "code",
   "execution_count": 20,
   "id": "f0c7c7db",
   "metadata": {},
   "outputs": [
    {
     "data": {
      "text/plain": [
       "[]"
      ]
     },
     "execution_count": 20,
     "metadata": {},
     "output_type": "execute_result"
    }
   ],
   "source": [
    "numericas = dataframe.select_dtypes(include=['int64', 'float64']).columns.tolist()\n",
    "numericas\n"
   ]
  },
  {
   "cell_type": "code",
   "execution_count": 22,
   "id": "618a3c83",
   "metadata": {},
   "outputs": [
    {
     "ename": "KeyError",
     "evalue": "'delivery_time'",
     "output_type": "error",
     "traceback": [
      "\u001b[0;31m---------------------------------------------------------------------------\u001b[0m",
      "\u001b[0;31mKeyError\u001b[0m                                  Traceback (most recent call last)",
      "File \u001b[0;32m/opt/anaconda3/lib/python3.13/site-packages/pandas/core/indexes/base.py:3805\u001b[0m, in \u001b[0;36mIndex.get_loc\u001b[0;34m(self, key)\u001b[0m\n\u001b[1;32m   3804\u001b[0m \u001b[38;5;28;01mtry\u001b[39;00m:\n\u001b[0;32m-> 3805\u001b[0m     \u001b[38;5;28;01mreturn\u001b[39;00m \u001b[38;5;28mself\u001b[39m\u001b[38;5;241m.\u001b[39m_engine\u001b[38;5;241m.\u001b[39mget_loc(casted_key)\n\u001b[1;32m   3806\u001b[0m \u001b[38;5;28;01mexcept\u001b[39;00m \u001b[38;5;167;01mKeyError\u001b[39;00m \u001b[38;5;28;01mas\u001b[39;00m err:\n",
      "File \u001b[0;32mindex.pyx:167\u001b[0m, in \u001b[0;36mpandas._libs.index.IndexEngine.get_loc\u001b[0;34m()\u001b[0m\n",
      "File \u001b[0;32mindex.pyx:196\u001b[0m, in \u001b[0;36mpandas._libs.index.IndexEngine.get_loc\u001b[0;34m()\u001b[0m\n",
      "File \u001b[0;32mpandas/_libs/hashtable_class_helper.pxi:7081\u001b[0m, in \u001b[0;36mpandas._libs.hashtable.PyObjectHashTable.get_item\u001b[0;34m()\u001b[0m\n",
      "File \u001b[0;32mpandas/_libs/hashtable_class_helper.pxi:7089\u001b[0m, in \u001b[0;36mpandas._libs.hashtable.PyObjectHashTable.get_item\u001b[0;34m()\u001b[0m\n",
      "\u001b[0;31mKeyError\u001b[0m: 'delivery_time'",
      "\nThe above exception was the direct cause of the following exception:\n",
      "\u001b[0;31mKeyError\u001b[0m                                  Traceback (most recent call last)",
      "Cell \u001b[0;32mIn[22], line 2\u001b[0m\n\u001b[1;32m      1\u001b[0m plt\u001b[38;5;241m.\u001b[39mfigure(figsize\u001b[38;5;241m=\u001b[39m(\u001b[38;5;241m10\u001b[39m, \u001b[38;5;241m6\u001b[39m))\n\u001b[0;32m----> 2\u001b[0m plt\u001b[38;5;241m.\u001b[39mboxplot(dataframe[\u001b[38;5;124m'\u001b[39m\u001b[38;5;124mdelivery_time\u001b[39m\u001b[38;5;124m'\u001b[39m], labels\u001b[38;5;241m=\u001b[39m[\u001b[38;5;124m'\u001b[39m\u001b[38;5;124mdelivery_time\u001b[39m\u001b[38;5;124m'\u001b[39m])\n\u001b[1;32m      3\u001b[0m plt\u001b[38;5;241m.\u001b[39mtitle(\u001b[38;5;124m'\u001b[39m\u001b[38;5;124mBoxplot da Variavel delivery_time\u001b[39m\u001b[38;5;124m'\u001b[39m)\n\u001b[1;32m      4\u001b[0m plt\u001b[38;5;241m.\u001b[39mylabel(\u001b[38;5;124m\"\u001b[39m\u001b[38;5;124mTempo de Entrega\u001b[39m\u001b[38;5;124m\"\u001b[39m)\n",
      "File \u001b[0;32m/opt/anaconda3/lib/python3.13/site-packages/pandas/core/frame.py:4102\u001b[0m, in \u001b[0;36mDataFrame.__getitem__\u001b[0;34m(self, key)\u001b[0m\n\u001b[1;32m   4100\u001b[0m \u001b[38;5;28;01mif\u001b[39;00m \u001b[38;5;28mself\u001b[39m\u001b[38;5;241m.\u001b[39mcolumns\u001b[38;5;241m.\u001b[39mnlevels \u001b[38;5;241m>\u001b[39m \u001b[38;5;241m1\u001b[39m:\n\u001b[1;32m   4101\u001b[0m     \u001b[38;5;28;01mreturn\u001b[39;00m \u001b[38;5;28mself\u001b[39m\u001b[38;5;241m.\u001b[39m_getitem_multilevel(key)\n\u001b[0;32m-> 4102\u001b[0m indexer \u001b[38;5;241m=\u001b[39m \u001b[38;5;28mself\u001b[39m\u001b[38;5;241m.\u001b[39mcolumns\u001b[38;5;241m.\u001b[39mget_loc(key)\n\u001b[1;32m   4103\u001b[0m \u001b[38;5;28;01mif\u001b[39;00m is_integer(indexer):\n\u001b[1;32m   4104\u001b[0m     indexer \u001b[38;5;241m=\u001b[39m [indexer]\n",
      "File \u001b[0;32m/opt/anaconda3/lib/python3.13/site-packages/pandas/core/indexes/base.py:3812\u001b[0m, in \u001b[0;36mIndex.get_loc\u001b[0;34m(self, key)\u001b[0m\n\u001b[1;32m   3807\u001b[0m     \u001b[38;5;28;01mif\u001b[39;00m \u001b[38;5;28misinstance\u001b[39m(casted_key, \u001b[38;5;28mslice\u001b[39m) \u001b[38;5;129;01mor\u001b[39;00m (\n\u001b[1;32m   3808\u001b[0m         \u001b[38;5;28misinstance\u001b[39m(casted_key, abc\u001b[38;5;241m.\u001b[39mIterable)\n\u001b[1;32m   3809\u001b[0m         \u001b[38;5;129;01mand\u001b[39;00m \u001b[38;5;28many\u001b[39m(\u001b[38;5;28misinstance\u001b[39m(x, \u001b[38;5;28mslice\u001b[39m) \u001b[38;5;28;01mfor\u001b[39;00m x \u001b[38;5;129;01min\u001b[39;00m casted_key)\n\u001b[1;32m   3810\u001b[0m     ):\n\u001b[1;32m   3811\u001b[0m         \u001b[38;5;28;01mraise\u001b[39;00m InvalidIndexError(key)\n\u001b[0;32m-> 3812\u001b[0m     \u001b[38;5;28;01mraise\u001b[39;00m \u001b[38;5;167;01mKeyError\u001b[39;00m(key) \u001b[38;5;28;01mfrom\u001b[39;00m\u001b[38;5;250m \u001b[39m\u001b[38;5;21;01merr\u001b[39;00m\n\u001b[1;32m   3813\u001b[0m \u001b[38;5;28;01mexcept\u001b[39;00m \u001b[38;5;167;01mTypeError\u001b[39;00m:\n\u001b[1;32m   3814\u001b[0m     \u001b[38;5;66;03m# If we have a listlike key, _check_indexing_error will raise\u001b[39;00m\n\u001b[1;32m   3815\u001b[0m     \u001b[38;5;66;03m#  InvalidIndexError. Otherwise we fall through and re-raise\u001b[39;00m\n\u001b[1;32m   3816\u001b[0m     \u001b[38;5;66;03m#  the TypeError.\u001b[39;00m\n\u001b[1;32m   3817\u001b[0m     \u001b[38;5;28mself\u001b[39m\u001b[38;5;241m.\u001b[39m_check_indexing_error(key)\n",
      "\u001b[0;31mKeyError\u001b[0m: 'delivery_time'"
     ]
    },
    {
     "data": {
      "text/plain": [
       "<Figure size 1000x600 with 0 Axes>"
      ]
     },
     "metadata": {},
     "output_type": "display_data"
    }
   ],
   "source": [
    "plt.figure(figsize=(10, 6))\n",
    "plt.boxplot(dataframe['delivery_time'], labels=['delivery_time'])\n",
    "plt.title('Boxplot da Variavel delivery_time')\n",
    "plt.ylabel(\"Tempo de Entrega\")\n",
    "plt.show()\n"
   ]
  },
  {
   "cell_type": "code",
   "execution_count": 23,
   "id": "cc6fd00d",
   "metadata": {},
   "outputs": [
    {
     "ename": "NameError",
     "evalue": "name 'df_sel' is not defined",
     "output_type": "error",
     "traceback": [
      "\u001b[0;31m---------------------------------------------------------------------------\u001b[0m",
      "\u001b[0;31mNameError\u001b[0m                                 Traceback (most recent call last)",
      "Cell \u001b[0;32mIn[23], line 2\u001b[0m\n\u001b[1;32m      1\u001b[0m \u001b[38;5;66;03m# Calculando Quartis\u001b[39;00m\n\u001b[0;32m----> 2\u001b[0m Q1 \u001b[38;5;241m=\u001b[39m df_sel[\u001b[38;5;124m'\u001b[39m\u001b[38;5;124mdelivery_fee\u001b[39m\u001b[38;5;124m'\u001b[39m]\u001b[38;5;241m.\u001b[39mquantile(\u001b[38;5;241m0.25\u001b[39m)\n\u001b[1;32m      3\u001b[0m Q3 \u001b[38;5;241m=\u001b[39m df_sel[\u001b[38;5;124m'\u001b[39m\u001b[38;5;124mdelivery_fee\u001b[39m\u001b[38;5;124m'\u001b[39m]\u001b[38;5;241m.\u001b[39mquantile(\u001b[38;5;241m0.75\u001b[39m)\n\u001b[1;32m      5\u001b[0m \u001b[38;5;66;03m# Calculando o intervalo interquartil\u001b[39;00m\n",
      "\u001b[0;31mNameError\u001b[0m: name 'df_sel' is not defined"
     ]
    }
   ],
   "source": [
    "# Calculando Quartis\n",
    "Q1 = df_sel['delivery_fee'].quantile(0.25)\n",
    "Q3 = df_sel['delivery_fee'].quantile(0.75)\n",
    "\n",
    "# Calculando o intervalo interquartil\n",
    "IQR = Q3 - Q1\n",
    "\n"
   ]
  },
  {
   "cell_type": "code",
   "execution_count": null,
   "id": "951f6d21",
   "metadata": {},
   "outputs": [],
   "source": [
    "df_out = df[df['delivery_fee'] < (Q1 - 1.5 * IQR) | df['delivery_fee'] > (Q3 + 1.5 * IQR)]\n",
    "df_out "
   ]
  },
  {
   "cell_type": "code",
   "execution_count": null,
   "id": "26af07b5",
   "metadata": {},
   "outputs": [],
   "source": [
    "df_out.head(3)"
   ]
  },
  {
   "cell_type": "code",
   "execution_count": 24,
   "id": "46d78f23",
   "metadata": {},
   "outputs": [
    {
     "ename": "NameError",
     "evalue": "name 'df_out' is not defined",
     "output_type": "error",
     "traceback": [
      "\u001b[0;31m---------------------------------------------------------------------------\u001b[0m",
      "\u001b[0;31mNameError\u001b[0m                                 Traceback (most recent call last)",
      "Cell \u001b[0;32mIn[24], line 1\u001b[0m\n\u001b[0;32m----> 1\u001b[0m \u001b[38;5;28mprint\u001b[39m(\u001b[38;5;124mf\u001b[39m\u001b[38;5;124m'\u001b[39m\u001b[38;5;124mQuantidade de outliers na base: \u001b[39m\u001b[38;5;132;01m{\u001b[39;00m\u001b[38;5;28mlen\u001b[39m(df_out)\u001b[38;5;132;01m}\u001b[39;00m\u001b[38;5;124m'\u001b[39m)\n\u001b[1;32m      2\u001b[0m \u001b[38;5;28mprint\u001b[39m(\u001b[38;5;124mf\u001b[39m\u001b[38;5;124m'\u001b[39m\u001b[38;5;124mQuantidade de outliers na base: \u001b[39m\u001b[38;5;132;01m{\u001b[39;00m\u001b[38;5;28mlen\u001b[39m(df_out)\u001b[38;5;132;01m}\u001b[39;00m\u001b[38;5;124m'\u001b[39m)\n",
      "\u001b[0;31mNameError\u001b[0m: name 'df_out' is not defined"
     ]
    }
   ],
   "source": [
    "print(f'Quantidade de outliers na base: {len(df_out)}')\n",
    "print(f'Quantidade de outliers na base: {len(df_out)}')\n"
   ]
  },
  {
   "cell_type": "markdown",
   "id": "091be1d5",
   "metadata": {},
   "source": [
    "## Retirando outliers"
   ]
  },
  {
   "cell_type": "code",
   "execution_count": 1,
   "id": "68d77d52",
   "metadata": {},
   "outputs": [
    {
     "ename": "NameError",
     "evalue": "name 'df' is not defined",
     "output_type": "error",
     "traceback": [
      "\u001b[0;31m---------------------------------------------------------------------------\u001b[0m",
      "\u001b[0;31mNameError\u001b[0m                                 Traceback (most recent call last)",
      "Cell \u001b[0;32mIn[1], line 1\u001b[0m\n\u001b[0;32m----> 1\u001b[0m numericas \u001b[38;5;241m=\u001b[39m df\u001b[38;5;241m.\u001b[39mselect_dtypes(include\u001b[38;5;241m=\u001b[39m[\u001b[38;5;124m'\u001b[39m\u001b[38;5;124mint64\u001b[39m\u001b[38;5;124m'\u001b[39m, \u001b[38;5;124m'\u001b[39m\u001b[38;5;124mfloat64\u001b[39m\u001b[38;5;124m'\u001b[39m])\u001b[38;5;241m.\u001b[39mcolumns\u001b[38;5;241m.\u001b[39mtolist()\n\u001b[1;32m      2\u001b[0m numericas\n",
      "\u001b[0;31mNameError\u001b[0m: name 'df' is not defined"
     ]
    }
   ],
   "source": [
    "numericas = df.select_dtypes(include=['int64', 'float64']).columns.tolist()\n",
    "numericas"
   ]
  },
  {
   "cell_type": "code",
   "execution_count": null,
   "id": "eb9cdb06",
   "metadata": {},
   "outputs": [],
   "source": [
    "numericas.pop(3)"
   ]
  },
  {
   "cell_type": "code",
   "execution_count": null,
   "id": "f3569518",
   "metadata": {},
   "outputs": [],
   "source": [
    "df['delivery_fee'].quantile(0.25)"
   ]
  },
  {
   "cell_type": "code",
   "execution_count": null,
   "id": "aedbce3a",
   "metadata": {},
   "outputs": [],
   "source": [
    "Q1 = df['delivery_fee'].quantile(0.25)\n",
    "Q3 = df['delivery_fee'].quantile(0.75)"
   ]
  },
  {
   "cell_type": "code",
   "execution_count": null,
   "id": "e3d5b7f4",
   "metadata": {},
   "outputs": [],
   "source": [
    "IQR = Q3 - Q1"
   ]
  },
  {
   "cell_type": "code",
   "execution_count": null,
   "id": "951c2cbe",
   "metadata": {},
   "outputs": [],
   "source": [
    "outliers_geral = df[df['delivery_fee'] < (Q1 - 1.5 * IQR) | df['delivery_fee'] > (Q3 + 1.5 * IQR)]"
   ]
  },
  {
   "cell_type": "code",
   "execution_count": null,
   "id": "678c8a3e",
   "metadata": {},
   "outputs": [],
   "source": [
    "print(f'Quantidade de outliers na base: {len(outliers_geral)}')\n",
    "print(f'Quantidade de outliers na base: {len(outliers_geral)}')\n",
    "print(f'Quantidade de outliers na base: {len(outliers_geral)}')"
   ]
  },
  {
   "cell_type": "code",
   "execution_count": null,
   "id": "e0f16075",
   "metadata": {},
   "outputs": [],
   "source": []
  }
 ],
 "metadata": {
  "kernelspec": {
   "display_name": "base",
   "language": "python",
   "name": "python3"
  },
  "language_info": {
   "codemirror_mode": {
    "name": "ipython",
    "version": 3
   },
   "file_extension": ".py",
   "mimetype": "text/x-python",
   "name": "python",
   "nbconvert_exporter": "python",
   "pygments_lexer": "ipython3",
   "version": "3.13.5"
  }
 },
 "nbformat": 4,
 "nbformat_minor": 5
}
