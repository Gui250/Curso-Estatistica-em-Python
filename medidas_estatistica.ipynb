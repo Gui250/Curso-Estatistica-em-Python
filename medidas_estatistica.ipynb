{
 "cells": [
  {
   "cell_type": "markdown",
   "id": "9acf96d7",
   "metadata": {},
   "source": [
    "## Imports"
   ]
  },
  {
   "cell_type": "code",
   "execution_count": 1,
   "id": "135d3098",
   "metadata": {},
   "outputs": [],
   "source": [
    "import pandas as pd \n",
    "import numpy as np"
   ]
  },
  {
   "cell_type": "markdown",
   "id": "fd1564bc",
   "metadata": {},
   "source": [
    "## Lendo os Dados"
   ]
  },
  {
   "cell_type": "code",
   "execution_count": 2,
   "id": "7eaeaa88",
   "metadata": {},
   "outputs": [],
   "source": [
    "df = pd.read_csv('Datasets/ifood-restaurants-november-2020.csv')"
   ]
  },
  {
   "cell_type": "code",
   "execution_count": 3,
   "id": "87d2c011",
   "metadata": {},
   "outputs": [
    {
     "data": {
      "text/html": [
       "<div>\n",
       "<style scoped>\n",
       "    .dataframe tbody tr th:only-of-type {\n",
       "        vertical-align: middle;\n",
       "    }\n",
       "\n",
       "    .dataframe tbody tr th {\n",
       "        vertical-align: top;\n",
       "    }\n",
       "\n",
       "    .dataframe thead th {\n",
       "        text-align: right;\n",
       "    }\n",
       "</style>\n",
       "<table border=\"1\" class=\"dataframe\">\n",
       "  <thead>\n",
       "    <tr style=\"text-align: right;\">\n",
       "      <th></th>\n",
       "      <th>avatar</th>\n",
       "      <th>category</th>\n",
       "      <th>delivery_fee</th>\n",
       "      <th>delivery_time</th>\n",
       "      <th>distance</th>\n",
       "      <th>name</th>\n",
       "      <th>price_range</th>\n",
       "      <th>rating</th>\n",
       "      <th>url</th>\n",
       "      <th>lat</th>\n",
       "      <th>long</th>\n",
       "    </tr>\n",
       "  </thead>\n",
       "  <tbody>\n",
       "    <tr>\n",
       "      <th>0</th>\n",
       "      <td>https://static-images.ifood.com.br/image/uploa...</td>\n",
       "      <td>Lanches</td>\n",
       "      <td>9.00</td>\n",
       "      <td>80</td>\n",
       "      <td>6.20</td>\n",
       "      <td>El'moedor</td>\n",
       "      <td>CHEAP</td>\n",
       "      <td>4.30303</td>\n",
       "      <td>https://www.ifood.com.br/delivery/vitoria-de-s...</td>\n",
       "      <td>-8.11298</td>\n",
       "      <td>-35.215</td>\n",
       "    </tr>\n",
       "    <tr>\n",
       "      <th>1</th>\n",
       "      <td>https://static-images.ifood.com.br/image/uploa...</td>\n",
       "      <td>Doces &amp; Bolos</td>\n",
       "      <td>6.00</td>\n",
       "      <td>35</td>\n",
       "      <td>3.03</td>\n",
       "      <td>Delicia de Brigadeiro</td>\n",
       "      <td>CHEAPEST</td>\n",
       "      <td>0.00000</td>\n",
       "      <td>https://www.ifood.com.br/delivery/moreno-pe/de...</td>\n",
       "      <td>-8.11298</td>\n",
       "      <td>-35.115</td>\n",
       "    </tr>\n",
       "    <tr>\n",
       "      <th>2</th>\n",
       "      <td>https://static-images.ifood.com.br/image/uploa...</td>\n",
       "      <td>Brasileira</td>\n",
       "      <td>4.00</td>\n",
       "      <td>40</td>\n",
       "      <td>1.51</td>\n",
       "      <td>Pizzaria Rappi10 - Moreno</td>\n",
       "      <td>CHEAPEST</td>\n",
       "      <td>0.00000</td>\n",
       "      <td>https://www.ifood.com.br/delivery/moreno-pe/pi...</td>\n",
       "      <td>-8.11298</td>\n",
       "      <td>-35.115</td>\n",
       "    </tr>\n",
       "    <tr>\n",
       "      <th>3</th>\n",
       "      <td>https://static-images.ifood.com.br/image/uploa...</td>\n",
       "      <td>Lanches</td>\n",
       "      <td>0.00</td>\n",
       "      <td>50</td>\n",
       "      <td>0.79</td>\n",
       "      <td>Tapioca Arretada</td>\n",
       "      <td>CHEAPEST</td>\n",
       "      <td>5.00000</td>\n",
       "      <td>https://www.ifood.com.br/delivery/jaboatao-dos...</td>\n",
       "      <td>-8.11298</td>\n",
       "      <td>-35.015</td>\n",
       "    </tr>\n",
       "    <tr>\n",
       "      <th>4</th>\n",
       "      <td>https://static-images.ifood.com.br/image/uploa...</td>\n",
       "      <td>Salgados</td>\n",
       "      <td>12.99</td>\n",
       "      <td>36</td>\n",
       "      <td>5.12</td>\n",
       "      <td>Minuto Kit Festa ( Salgados e Doces )</td>\n",
       "      <td>CHEAPEST</td>\n",
       "      <td>5.00000</td>\n",
       "      <td>https://www.ifood.com.br/delivery/jaboatao-dos...</td>\n",
       "      <td>-8.11298</td>\n",
       "      <td>-35.015</td>\n",
       "    </tr>\n",
       "  </tbody>\n",
       "</table>\n",
       "</div>"
      ],
      "text/plain": [
       "                                              avatar       category  \\\n",
       "0  https://static-images.ifood.com.br/image/uploa...        Lanches   \n",
       "1  https://static-images.ifood.com.br/image/uploa...  Doces & Bolos   \n",
       "2  https://static-images.ifood.com.br/image/uploa...     Brasileira   \n",
       "3  https://static-images.ifood.com.br/image/uploa...        Lanches   \n",
       "4  https://static-images.ifood.com.br/image/uploa...       Salgados   \n",
       "\n",
       "   delivery_fee  delivery_time  distance  \\\n",
       "0          9.00             80      6.20   \n",
       "1          6.00             35      3.03   \n",
       "2          4.00             40      1.51   \n",
       "3          0.00             50      0.79   \n",
       "4         12.99             36      5.12   \n",
       "\n",
       "                                    name price_range   rating  \\\n",
       "0                              El'moedor       CHEAP  4.30303   \n",
       "1                  Delicia de Brigadeiro    CHEAPEST  0.00000   \n",
       "2              Pizzaria Rappi10 - Moreno    CHEAPEST  0.00000   \n",
       "3                       Tapioca Arretada    CHEAPEST  5.00000   \n",
       "4  Minuto Kit Festa ( Salgados e Doces )    CHEAPEST  5.00000   \n",
       "\n",
       "                                                 url      lat    long  \n",
       "0  https://www.ifood.com.br/delivery/vitoria-de-s... -8.11298 -35.215  \n",
       "1  https://www.ifood.com.br/delivery/moreno-pe/de... -8.11298 -35.115  \n",
       "2  https://www.ifood.com.br/delivery/moreno-pe/pi... -8.11298 -35.115  \n",
       "3  https://www.ifood.com.br/delivery/jaboatao-dos... -8.11298 -35.015  \n",
       "4  https://www.ifood.com.br/delivery/jaboatao-dos... -8.11298 -35.015  "
      ]
     },
     "execution_count": 3,
     "metadata": {},
     "output_type": "execute_result"
    }
   ],
   "source": [
    "df.head(5)"
   ]
  },
  {
   "cell_type": "markdown",
   "id": "b3775206",
   "metadata": {},
   "source": [
    "## Selecionando Variaveis Covenientes"
   ]
  },
  {
   "cell_type": "code",
   "execution_count": 7,
   "id": "e113ec09",
   "metadata": {},
   "outputs": [],
   "source": [
    "df_sel = df[['category', 'delivery_fee', 'delivery_time', 'distance', 'name', 'rating']]"
   ]
  },
  {
   "cell_type": "code",
   "execution_count": 8,
   "id": "3bb1cbda",
   "metadata": {},
   "outputs": [
    {
     "name": "stdout",
     "output_type": "stream",
     "text": [
      "Variaveis Numericas:  ['delivery_fee', 'delivery_time', 'distance', 'rating']\n",
      "Variaveis Categoricas:  ['category', 'name']\n"
     ]
    }
   ],
   "source": [
    "numericas = df_sel.select_dtypes(include=['int64', 'float64']).columns.tolist()\n",
    "categoricas = df_sel.select_dtypes(include=['object']).columns.tolist()\n",
    "\n",
    "print('Variaveis Numericas: ', numericas)\n",
    "print('Variaveis Categoricas: ', categoricas)"
   ]
  },
  {
   "cell_type": "markdown",
   "id": "9b2f57fd",
   "metadata": {},
   "source": [
    "## Usando função describe"
   ]
  },
  {
   "cell_type": "code",
   "execution_count": null,
   "id": "46dc1cac",
   "metadata": {},
   "outputs": [
    {
     "data": {
      "text/html": [
       "<div>\n",
       "<style scoped>\n",
       "    .dataframe tbody tr th:only-of-type {\n",
       "        vertical-align: middle;\n",
       "    }\n",
       "\n",
       "    .dataframe tbody tr th {\n",
       "        vertical-align: top;\n",
       "    }\n",
       "\n",
       "    .dataframe thead th {\n",
       "        text-align: right;\n",
       "    }\n",
       "</style>\n",
       "<table border=\"1\" class=\"dataframe\">\n",
       "  <thead>\n",
       "    <tr style=\"text-align: right;\">\n",
       "      <th></th>\n",
       "      <th>delivery_fee</th>\n",
       "      <th>delivery_time</th>\n",
       "      <th>distance</th>\n",
       "      <th>rating</th>\n",
       "    </tr>\n",
       "  </thead>\n",
       "  <tbody>\n",
       "    <tr>\n",
       "      <th>count</th>\n",
       "      <td>361447.000000</td>\n",
       "      <td>361447.000000</td>\n",
       "      <td>361447.000000</td>\n",
       "      <td>361447.000000</td>\n",
       "    </tr>\n",
       "    <tr>\n",
       "      <th>mean</th>\n",
       "      <td>6.450367</td>\n",
       "      <td>47.758629</td>\n",
       "      <td>4.266978</td>\n",
       "      <td>2.767922</td>\n",
       "    </tr>\n",
       "    <tr>\n",
       "      <th>std</th>\n",
       "      <td>4.062925</td>\n",
       "      <td>19.586370</td>\n",
       "      <td>69.433192</td>\n",
       "      <td>2.254964</td>\n",
       "    </tr>\n",
       "    <tr>\n",
       "      <th>min</th>\n",
       "      <td>0.000000</td>\n",
       "      <td>-5.000000</td>\n",
       "      <td>0.010000</td>\n",
       "      <td>0.000000</td>\n",
       "    </tr>\n",
       "    <tr>\n",
       "      <th>25%</th>\n",
       "      <td>4.000000</td>\n",
       "      <td>35.000000</td>\n",
       "      <td>1.770000</td>\n",
       "      <td>0.000000</td>\n",
       "    </tr>\n",
       "    <tr>\n",
       "      <th>50%</th>\n",
       "      <td>5.990000</td>\n",
       "      <td>45.000000</td>\n",
       "      <td>3.060000</td>\n",
       "      <td>4.227270</td>\n",
       "    </tr>\n",
       "    <tr>\n",
       "      <th>75%</th>\n",
       "      <td>8.990000</td>\n",
       "      <td>60.000000</td>\n",
       "      <td>4.760000</td>\n",
       "      <td>4.758170</td>\n",
       "    </tr>\n",
       "    <tr>\n",
       "      <th>max</th>\n",
       "      <td>40.000000</td>\n",
       "      <td>5060.000000</td>\n",
       "      <td>11810.190000</td>\n",
       "      <td>5.000000</td>\n",
       "    </tr>\n",
       "  </tbody>\n",
       "</table>\n",
       "</div>"
      ],
      "text/plain": [
       "        delivery_fee  delivery_time       distance         rating\n",
       "count  361447.000000  361447.000000  361447.000000  361447.000000\n",
       "mean        6.450367      47.758629       4.266978       2.767922\n",
       "std         4.062925      19.586370      69.433192       2.254964\n",
       "min         0.000000      -5.000000       0.010000       0.000000\n",
       "25%         4.000000      35.000000       1.770000       0.000000\n",
       "50%         5.990000      45.000000       3.060000       4.227270\n",
       "75%         8.990000      60.000000       4.760000       4.758170\n",
       "max        40.000000    5060.000000   11810.190000       5.000000"
      ]
     },
     "execution_count": 9,
     "metadata": {},
     "output_type": "execute_result"
    }
   ],
   "source": [
    "df_sel.describe() # retorna as principais medidas estatisticas para as variaveis numericas"
   ]
  },
  {
   "cell_type": "markdown",
   "id": "aa7ef987",
   "metadata": {},
   "source": [
    "## Usando a função mode() "
   ]
  },
  {
   "cell_type": "code",
   "execution_count": 10,
   "id": "eee296f2",
   "metadata": {},
   "outputs": [
    {
     "data": {
      "text/plain": [
       "0    Lanches\n",
       "Name: category, dtype: object"
      ]
     },
     "execution_count": 10,
     "metadata": {},
     "output_type": "execute_result"
    }
   ],
   "source": [
    "df_sel['category'].mode()"
   ]
  },
  {
   "cell_type": "code",
   "execution_count": 11,
   "id": "4be54a19",
   "metadata": {},
   "outputs": [
    {
     "data": {
      "text/plain": [
       "'Lanches'"
      ]
     },
     "execution_count": 11,
     "metadata": {},
     "output_type": "execute_result"
    }
   ],
   "source": [
    "df['category'].mode()[0]"
   ]
  },
  {
   "cell_type": "code",
   "execution_count": 14,
   "id": "3645beb4",
   "metadata": {},
   "outputs": [
    {
     "data": {
      "text/plain": [
       "0.0"
      ]
     },
     "execution_count": 14,
     "metadata": {},
     "output_type": "execute_result"
    }
   ],
   "source": [
    "df_sel['delivery_fee'].mode()[0]"
   ]
  },
  {
   "cell_type": "markdown",
   "id": "9d215509",
   "metadata": {},
   "source": [
    "## Avaliando a moda das variaveis "
   ]
  },
  {
   "cell_type": "code",
   "execution_count": 15,
   "id": "ac939fcb",
   "metadata": {},
   "outputs": [
    {
     "name": "stdout",
     "output_type": "stream",
     "text": [
      "<><><><><><><><><><><><><><><><><>\n",
      "Variavel: category\n",
      "Moda: Lanches\n",
      "\n",
      "category\n",
      "Lanches          89331\n",
      "Brasileira       67027\n",
      "Doces & Bolos    34041\n",
      "Pizza            33797\n",
      "Açaí             17837\n",
      "Name: count, dtype: int64\n",
      "\n",
      "<><><><><><><><><><><><><><><><><>\n",
      "Variavel: name\n",
      "Moda: Sabor Caseiro\n",
      "\n",
      "name\n",
      "Sabor Caseiro        165\n",
      "Divino Sabor         113\n",
      "Sabor de Casa        102\n",
      "Doce Sabor           100\n",
      "Cantinho do Sabor     91\n",
      "Name: count, dtype: int64\n",
      "\n"
     ]
    }
   ],
   "source": [
    "for variavel in categoricas: \n",
    "    contagens = df_sel[variavel].value_counts()\n",
    "\n",
    "    if(len(contagens) > 1): \n",
    "        print(\"<><><><><><><><><><><><><><><><><>\")\n",
    "        print(f'Variavel: {variavel}')\n",
    "        print(f'Moda: {df_sel[variavel].mode()[0]}\\n')\n",
    "        print(f'{contagens.iloc[0:5]}\\n')\n",
    "    else:\n",
    "        print(\"<><><><><><><><><><><><><><><><><>\")\n",
    "        print(f'Variavel: {variavel}')\n",
    "        print(f'Moda: {df_sel[variavel].mode()[0]}\\n')\n",
    "        print(f'{contagens}\\n')\n"
   ]
  }
 ],
 "metadata": {
  "kernelspec": {
   "display_name": "base",
   "language": "python",
   "name": "python3"
  },
  "language_info": {
   "codemirror_mode": {
    "name": "ipython",
    "version": 3
   },
   "file_extension": ".py",
   "mimetype": "text/x-python",
   "name": "python",
   "nbconvert_exporter": "python",
   "pygments_lexer": "ipython3",
   "version": "3.12.7"
  }
 },
 "nbformat": 4,
 "nbformat_minor": 5
}
