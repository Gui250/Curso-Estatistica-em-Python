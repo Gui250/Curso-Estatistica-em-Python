{
 "cells": [
  {
   "cell_type": "code",
   "execution_count": 3,
   "id": "0c49f9d0",
   "metadata": {},
   "outputs": [],
   "source": [
    "import pandas as pd\n",
    "import numpy as np"
   ]
  },
  {
   "cell_type": "code",
   "execution_count": 7,
   "id": "56139856",
   "metadata": {},
   "outputs": [],
   "source": [
    "valores = [12, 15, 18, 20, 22, 25, 28,30, 32, 35, 40, 45]"
   ]
  },
  {
   "cell_type": "code",
   "execution_count": null,
   "id": "7e5d1dfb",
   "metadata": {},
   "outputs": [
    {
     "data": {
      "text/plain": [
       "np.float64(26.5)"
      ]
     },
     "execution_count": 10,
     "metadata": {},
     "output_type": "execute_result"
    }
   ],
   "source": [
    "# Descobrindo o Q2\n",
    "q2 = np.median(valores)\n",
    "q2"
   ]
  },
  {
   "cell_type": "code",
   "execution_count": null,
   "id": "80811e69",
   "metadata": {},
   "outputs": [
    {
     "data": {
      "text/plain": [
       "np.float64(19.0)"
      ]
     },
     "execution_count": 11,
     "metadata": {},
     "output_type": "execute_result"
    }
   ],
   "source": [
    "# Descobrindo o Q1\n",
    "valores_q1 = [12,15,18,20,22,25]\n",
    "q1 = np.median(valores_q1)\n",
    "q1 "
   ]
  },
  {
   "cell_type": "code",
   "execution_count": null,
   "id": "6ff757dc",
   "metadata": {},
   "outputs": [
    {
     "data": {
      "text/plain": [
       "np.float64(33.5)"
      ]
     },
     "execution_count": 13,
     "metadata": {},
     "output_type": "execute_result"
    }
   ],
   "source": [
    "# Descobrindo o Q3\n",
    "valores_q3 = [28,30,32,35,40,45]\n",
    "q3 = np.median(valores_q3)\n",
    "q3"
   ]
  }
 ],
 "metadata": {
  "kernelspec": {
   "display_name": "base",
   "language": "python",
   "name": "python3"
  },
  "language_info": {
   "codemirror_mode": {
    "name": "ipython",
    "version": 3
   },
   "file_extension": ".py",
   "mimetype": "text/x-python",
   "name": "python",
   "nbconvert_exporter": "python",
   "pygments_lexer": "ipython3",
   "version": "3.13.5"
  }
 },
 "nbformat": 4,
 "nbformat_minor": 5
}
